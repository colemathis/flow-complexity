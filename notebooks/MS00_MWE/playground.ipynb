{
 "cells": [
  {
   "cell_type": "markdown",
   "metadata": {},
   "source": [
    "# Define the parameters"
   ]
  },
  {
   "cell_type": "code",
   "execution_count": 9,
   "metadata": {},
   "outputs": [
    {
     "data": {
      "text/plain": [
       "Simulation(1.0, 1.0, -1, 1813131609, \"line\", 1, 1, 1000, [1.0e-5 1.0 5.0], Dict(-1 => (-1,)), [:complete_timeseries], Dict{Any, Any}(), 2, true, true, false, false, \"/Users/alexandre/Documents/academic/2-research/projects/2023 spatial-topology/flow-complexity/data/sims/MS99/sub_task/000002\", \"First milestone: time series\", Ensemble([1], Chemostat[Chemostat(1, [0.01, 1.0, 5.0], [1, 1, 1, 1, 1, 1, 1, 1, 1, 1  …  1, 1, 1, 1, 1, 1, 1, 1, 1, 1], 1000, 1000, Int64[], Float64[], Int64[])], SimpleDiGraph{Int64}(0, [Int64[]], [Int64[]]), [1]))"
      ]
     },
     "metadata": {},
     "output_type": "display_data"
    }
   ],
   "source": [
    "include(\"../../src/Simulation.jl\")\n",
    "\n",
    "# parameters of the simulation\n",
    "mass = 1000\n",
    "graph_type = \"line\"\n",
    "N_reactors = 1\n",
    "forward_rate = 1.0e-2   # f_rate_list = [0.005, 0.01, 0.05, 0.1, 0.5, 1.0]\n",
    "outflow_rate = 5.0      # o_rate_list = [5.0, 10.0, 50.0, 100.0]\n",
    "backword_rate = 1.0\n",
    "total_time = 1.0\n",
    "sim_number = 2\n",
    "save_time_series = true\n",
    "save_parameters = true\n",
    "save_graph = false\n",
    "save_simulation = false\n",
    "save_directory = \"MS99/sub_task\"\n",
    "notes = \"First milestone: time series\"\n",
    "\n",
    "# instantiate\n",
    "sim = Simulation(mass, graph_type, N_reactors, forward_rate, outflow_rate, \n",
    "                backword_rate = backword_rate, total_time = total_time, \n",
    "                sim_number = sim_number, \n",
    "                save_time_series = save_time_series, save_parameters = save_parameters, save_graph = save_graph, save_simulation = save_simulation,\n",
    "                save_directory = save_directory,\n",
    "                notes = notes)\n"
   ]
  },
  {
   "cell_type": "markdown",
   "metadata": {},
   "source": [
    "# Run the simulation"
   ]
  },
  {
   "cell_type": "code",
   "execution_count": 10,
   "metadata": {},
   "outputs": [
    {
     "name": "stdout",
     "output_type": "stream",
     "text": [
      "Sim Completed\n",
      "Data Saved\n"
     ]
    }
   ],
   "source": [
    "# run\n",
    "RunSimulation(sim) # takes about 2m22sec"
   ]
  },
  {
   "cell_type": "markdown",
   "metadata": {},
   "source": [
    "# Read the time series and format the data"
   ]
  },
  {
   "cell_type": "code",
   "execution_count": 11,
   "metadata": {},
   "outputs": [
    {
     "ename": "ArgumentError",
     "evalue": "ArgumentError: \"/Users/alexandre/Documents/academic/2-research/projects/2023 spatial-topology/flow-complexity/data/sims/1/timeseries.csv\" is not a valid file or doesn't exist",
     "output_type": "error",
     "traceback": [
      "ArgumentError: \"/Users/alexandre/Documents/academic/2-research/projects/2023 spatial-topology/flow-complexity/data/sims/1/timeseries.csv\" is not a valid file or doesn't exist\n",
      "\n",
      "Stacktrace:\n",
      " [1] CSV.Context(source::CSV.Arg, header::CSV.Arg, normalizenames::CSV.Arg, datarow::CSV.Arg, skipto::CSV.Arg, footerskip::CSV.Arg, transpose::CSV.Arg, comment::CSV.Arg, ignoreemptyrows::CSV.Arg, ignoreemptylines::CSV.Arg, select::CSV.Arg, drop::CSV.Arg, limit::CSV.Arg, buffer_in_memory::CSV.Arg, threaded::CSV.Arg, ntasks::CSV.Arg, tasks::CSV.Arg, rows_to_check::CSV.Arg, lines_to_check::CSV.Arg, missingstrings::CSV.Arg, missingstring::CSV.Arg, delim::CSV.Arg, ignorerepeated::CSV.Arg, quoted::CSV.Arg, quotechar::CSV.Arg, openquotechar::CSV.Arg, closequotechar::CSV.Arg, escapechar::CSV.Arg, dateformat::CSV.Arg, dateformats::CSV.Arg, decimal::CSV.Arg, groupmark::CSV.Arg, truestrings::CSV.Arg, falsestrings::CSV.Arg, stripwhitespace::CSV.Arg, type::CSV.Arg, types::CSV.Arg, typemap::CSV.Arg, pool::CSV.Arg, downcast::CSV.Arg, lazystrings::CSV.Arg, stringtype::CSV.Arg, strict::CSV.Arg, silencewarnings::CSV.Arg, maxwarnings::CSV.Arg, debug::CSV.Arg, parsingdebug::CSV.Arg, validate::CSV.Arg, streaming::CSV.Arg)\n",
      "   @ CSV ~/.julia/packages/CSV/cwX2w/src/context.jl:314\n",
      " [2] #File#32\n",
      "   @ ~/.julia/packages/CSV/cwX2w/src/file.jl:222 [inlined]\n",
      " [3] CSV.File(source::String)\n",
      "   @ CSV ~/.julia/packages/CSV/cwX2w/src/file.jl:162\n",
      " [4] read(source::String, sink::Type; copycols::Bool, kwargs::@Kwargs{})\n",
      "   @ CSV ~/.julia/packages/CSV/cwX2w/src/CSV.jl:117\n",
      " [5] read(source::String, sink::Type)\n",
      "   @ CSV ~/.julia/packages/CSV/cwX2w/src/CSV.jl:113\n",
      " [6] top-level scope\n",
      "   @ ~/Documents/academic/2-research/projects/2023 spatial-topology/flow-complexity/milestones/1_time-series-analysis/jl_notebook_cell_df34fa98e69747e1a8f8a730347b8e2f_W6sZmlsZQ==.jl:6"
     ]
    }
   ],
   "source": [
    "using CSV\n",
    "using DataFrames\n",
    "\n",
    "fn = \"/Users/alexandre/Documents/academic/2-research/projects/2023 spatial-topology/flow-complexity/data/sims/1/timeseries.csv\"\n",
    "\n",
    "df = CSV.read(fn, DataFrame)\n",
    "sort!(df, :time);"
   ]
  },
  {
   "cell_type": "markdown",
   "metadata": {},
   "source": [
    "# Plot the data"
   ]
  },
  {
   "cell_type": "code",
   "execution_count": 12,
   "metadata": {},
   "outputs": [
    {
     "ename": "UndefVarError",
     "evalue": "UndefVarError: `df` not defined",
     "output_type": "error",
     "traceback": [
      "UndefVarError: `df` not defined\n",
      "\n",
      "Stacktrace:\n",
      " [1] top-level scope\n",
      "   @ ~/Documents/academic/2-research/projects/2023 spatial-topology/flow-complexity/milestones/1_time-series-analysis/jl_notebook_cell_df34fa98e69747e1a8f8a730347b8e2f_X11sZmlsZQ==.jl:7"
     ]
    }
   ],
   "source": [
    "using Plots\n",
    "\n",
    "p = plot(xlabel=\"Time\", ylabel=\"Count\")\n",
    "\n",
    "for i in 2:10\n",
    "\n",
    "    filtered_df = filter(row -> row[:variable] == i, df)\n",
    "    plot!(p, filtered_df.time, filtered_df.value, label=\"$i\")\n",
    "\n",
    "end\n",
    "\n",
    "display(p)"
   ]
  }
 ],
 "metadata": {
  "kernelspec": {
   "display_name": "Julia 1.10.0",
   "language": "julia",
   "name": "julia-1.10"
  },
  "language_info": {
   "file_extension": ".jl",
   "mimetype": "application/julia",
   "name": "julia",
   "version": "1.10.0"
  }
 },
 "nbformat": 4,
 "nbformat_minor": 2
}
