{
 "cells": [
  {
   "cell_type": "code",
   "execution_count": 25,
   "id": "d62f652f-be6a-4cdb-91f0-333fde00c9b8",
   "metadata": {},
   "outputs": [],
   "source": [
    "library(tidyverse)\n",
    "library(\"ggdark\")\n",
    "library(\"ggsci\")\n",
    "library(\"latex2exp\")\n",
    "library(repr)\n",
    "source(\"../scripts/assembly-map.r\")\n",
    "\n",
    "# Change plot size to 4 x 3\n",
    "#options(repr.plot.width=10, repr.plot.height=8)"
   ]
  },
  {
   "cell_type": "code",
   "execution_count": 26,
   "id": "e0cf687f-067a-4ea8-9d8c-6877a6e56095",
   "metadata": {},
   "outputs": [
    {
     "name": "stdout",
     "output_type": "stream",
     "text": [
      "[1] \"../data/raw\" \"line\"        \"reactor/5.0\" \"1000.0\"      \"1.0\"        \n",
      "[6] \"10.0\"        \".csv\"       \n"
     ]
    },
    {
     "data": {
      "text/html": [
       "<dl>\n",
       "\t<dt>$reactors</dt>\n",
       "\t\t<dd>5</dd>\n",
       "\t<dt>$outflow</dt>\n",
       "\t\t<dd>1</dd>\n",
       "\t<dt>$forward</dt>\n",
       "\t\t<dd>10</dd>\n",
       "</dl>\n"
      ],
      "text/latex": [
       "\\begin{description}\n",
       "\\item[\\$reactors] 5\n",
       "\\item[\\$outflow] 1\n",
       "\\item[\\$forward] 10\n",
       "\\end{description}\n"
      ],
      "text/markdown": [
       "$reactors\n",
       ":   5\n",
       "$outflow\n",
       ":   1\n",
       "$forward\n",
       ":   10\n",
       "\n",
       "\n"
      ],
      "text/plain": [
       "$reactors\n",
       "[1] 5\n",
       "\n",
       "$outflow\n",
       "[1] 1\n",
       "\n",
       "$forward\n",
       "[1] 10\n"
      ]
     },
     "metadata": {},
     "output_type": "display_data"
    }
   ],
   "source": [
    "example_file = \"../data/raw_line_reactor/5.0_1000.0_1.0_10.0_.csv\"\n",
    "\n",
    "parse_fname <- function(fname){\n",
    "    substrings = str_split(fname, \"_\")[[1]]\n",
    "    print(substrings)\n",
    "    return(list(reactors = as.numeric(str_split(substrings[3], \"/\")[[1]][2]),\n",
    "                outflow = as.numeric(substrings[5]), \n",
    "                forward = as.numeric(substrings[6]) ))\n",
    "    }\n",
    "\n",
    "parse_fname(example_file)"
   ]
  },
  {
   "cell_type": "code",
   "execution_count": 27,
   "id": "7a0e837f-bc5a-427a-84f0-dc5ad891a583",
   "metadata": {},
   "outputs": [],
   "source": [
    "example_run = read.csv(example_file)"
   ]
  },
  {
   "cell_type": "code",
   "execution_count": 28,
   "id": "36e90128-0615-42e9-898e-b1944584bea0",
   "metadata": {},
   "outputs": [
    {
     "data": {
      "text/html": [
       "<table class=\"dataframe\">\n",
       "<caption>A data.frame: 6 × 4</caption>\n",
       "<thead>\n",
       "\t<tr><th></th><th scope=col>time</th><th scope=col>reactor</th><th scope=col>variable</th><th scope=col>value</th></tr>\n",
       "\t<tr><th></th><th scope=col>&lt;dbl&gt;</th><th scope=col>&lt;int&gt;</th><th scope=col>&lt;chr&gt;</th><th scope=col>&lt;dbl&gt;</th></tr>\n",
       "</thead>\n",
       "<tbody>\n",
       "\t<tr><th scope=row>1</th><td>5</td><td>5</td><td>molecule_count</td><td>98.00000</td></tr>\n",
       "\t<tr><th scope=row>2</th><td>5</td><td>5</td><td>var_length    </td><td>54.40017</td></tr>\n",
       "\t<tr><th scope=row>3</th><td>5</td><td>5</td><td>5             </td><td> 7.00000</td></tr>\n",
       "\t<tr><th scope=row>4</th><td>5</td><td>5</td><td>16            </td><td> 5.00000</td></tr>\n",
       "\t<tr><th scope=row>5</th><td>5</td><td>5</td><td>20            </td><td> 3.00000</td></tr>\n",
       "\t<tr><th scope=row>6</th><td>5</td><td>5</td><td>72            </td><td> 1.00000</td></tr>\n",
       "</tbody>\n",
       "</table>\n"
      ],
      "text/latex": [
       "A data.frame: 6 × 4\n",
       "\\begin{tabular}{r|llll}\n",
       "  & time & reactor & variable & value\\\\\n",
       "  & <dbl> & <int> & <chr> & <dbl>\\\\\n",
       "\\hline\n",
       "\t1 & 5 & 5 & molecule\\_count & 98.00000\\\\\n",
       "\t2 & 5 & 5 & var\\_length     & 54.40017\\\\\n",
       "\t3 & 5 & 5 & 5              &  7.00000\\\\\n",
       "\t4 & 5 & 5 & 16             &  5.00000\\\\\n",
       "\t5 & 5 & 5 & 20             &  3.00000\\\\\n",
       "\t6 & 5 & 5 & 72             &  1.00000\\\\\n",
       "\\end{tabular}\n"
      ],
      "text/markdown": [
       "\n",
       "A data.frame: 6 × 4\n",
       "\n",
       "| <!--/--> | time &lt;dbl&gt; | reactor &lt;int&gt; | variable &lt;chr&gt; | value &lt;dbl&gt; |\n",
       "|---|---|---|---|---|\n",
       "| 1 | 5 | 5 | molecule_count | 98.00000 |\n",
       "| 2 | 5 | 5 | var_length     | 54.40017 |\n",
       "| 3 | 5 | 5 | 5              |  7.00000 |\n",
       "| 4 | 5 | 5 | 16             |  5.00000 |\n",
       "| 5 | 5 | 5 | 20             |  3.00000 |\n",
       "| 6 | 5 | 5 | 72             |  1.00000 |\n",
       "\n"
      ],
      "text/plain": [
       "  time reactor variable       value   \n",
       "1 5    5       molecule_count 98.00000\n",
       "2 5    5       var_length     54.40017\n",
       "3 5    5       5               7.00000\n",
       "4 5    5       16              5.00000\n",
       "5 5    5       20              3.00000\n",
       "6 5    5       72              1.00000"
      ]
     },
     "metadata": {},
     "output_type": "display_data"
    },
    {
     "data": {
      "text/html": [
       "<table class=\"dataframe\">\n",
       "<caption>A data.frame: 6 × 4</caption>\n",
       "<thead>\n",
       "\t<tr><th></th><th scope=col>time</th><th scope=col>reactor</th><th scope=col>variable</th><th scope=col>value</th></tr>\n",
       "\t<tr><th></th><th scope=col>&lt;dbl&gt;</th><th scope=col>&lt;int&gt;</th><th scope=col>&lt;chr&gt;</th><th scope=col>&lt;dbl&gt;</th></tr>\n",
       "</thead>\n",
       "<tbody>\n",
       "\t<tr><th scope=row>1</th><td> 5.000</td><td>5</td><td>molecule_count</td><td> 98</td></tr>\n",
       "\t<tr><th scope=row>2</th><td>29.001</td><td>5</td><td>molecule_count</td><td>121</td></tr>\n",
       "\t<tr><th scope=row>3</th><td> 6.000</td><td>5</td><td>molecule_count</td><td>104</td></tr>\n",
       "\t<tr><th scope=row>4</th><td> 4.000</td><td>5</td><td>molecule_count</td><td>102</td></tr>\n",
       "\t<tr><th scope=row>5</th><td>28.000</td><td>5</td><td>molecule_count</td><td>109</td></tr>\n",
       "\t<tr><th scope=row>6</th><td>23.000</td><td>5</td><td>molecule_count</td><td>118</td></tr>\n",
       "</tbody>\n",
       "</table>\n"
      ],
      "text/latex": [
       "A data.frame: 6 × 4\n",
       "\\begin{tabular}{r|llll}\n",
       "  & time & reactor & variable & value\\\\\n",
       "  & <dbl> & <int> & <chr> & <dbl>\\\\\n",
       "\\hline\n",
       "\t1 &  5.000 & 5 & molecule\\_count &  98\\\\\n",
       "\t2 & 29.001 & 5 & molecule\\_count & 121\\\\\n",
       "\t3 &  6.000 & 5 & molecule\\_count & 104\\\\\n",
       "\t4 &  4.000 & 5 & molecule\\_count & 102\\\\\n",
       "\t5 & 28.000 & 5 & molecule\\_count & 109\\\\\n",
       "\t6 & 23.000 & 5 & molecule\\_count & 118\\\\\n",
       "\\end{tabular}\n"
      ],
      "text/markdown": [
       "\n",
       "A data.frame: 6 × 4\n",
       "\n",
       "| <!--/--> | time &lt;dbl&gt; | reactor &lt;int&gt; | variable &lt;chr&gt; | value &lt;dbl&gt; |\n",
       "|---|---|---|---|---|\n",
       "| 1 |  5.000 | 5 | molecule_count |  98 |\n",
       "| 2 | 29.001 | 5 | molecule_count | 121 |\n",
       "| 3 |  6.000 | 5 | molecule_count | 104 |\n",
       "| 4 |  4.000 | 5 | molecule_count | 102 |\n",
       "| 5 | 28.000 | 5 | molecule_count | 109 |\n",
       "| 6 | 23.000 | 5 | molecule_count | 118 |\n",
       "\n"
      ],
      "text/plain": [
       "  time   reactor variable       value\n",
       "1  5.000 5       molecule_count  98  \n",
       "2 29.001 5       molecule_count 121  \n",
       "3  6.000 5       molecule_count 104  \n",
       "4  4.000 5       molecule_count 102  \n",
       "5 28.000 5       molecule_count 109  \n",
       "6 23.000 5       molecule_count 118  "
      ]
     },
     "metadata": {},
     "output_type": "display_data"
    }
   ],
   "source": [
    "head(example_run)\n",
    "averages_data = example_run %>% \n",
    "    filter(variable %in% c(\"molecule_count\")) %>%\n",
    "    filter(time < 30)\n",
    "head(averages_data)"
   ]
  },
  {
   "cell_type": "code",
   "execution_count": 39,
   "id": "1c228695-476d-47a5-aa8a-9034ba094895",
   "metadata": {},
   "outputs": [
    {
     "data": {
      "text/html": [
       "<table class=\"dataframe\">\n",
       "<caption>A data.frame: 6 × 4</caption>\n",
       "<thead>\n",
       "\t<tr><th></th><th scope=col>time</th><th scope=col>reactor</th><th scope=col>variable</th><th scope=col>value</th></tr>\n",
       "\t<tr><th></th><th scope=col>&lt;dbl&gt;</th><th scope=col>&lt;int&gt;</th><th scope=col>&lt;chr&gt;</th><th scope=col>&lt;dbl&gt;</th></tr>\n",
       "</thead>\n",
       "<tbody>\n",
       "\t<tr><th scope=row>1</th><td> 5.000</td><td>5</td><td>average_length</td><td>7.306122</td></tr>\n",
       "\t<tr><th scope=row>2</th><td>29.001</td><td>5</td><td>average_length</td><td>7.280992</td></tr>\n",
       "\t<tr><th scope=row>3</th><td> 6.000</td><td>5</td><td>average_length</td><td>7.423077</td></tr>\n",
       "\t<tr><th scope=row>4</th><td> 4.000</td><td>5</td><td>average_length</td><td>7.617647</td></tr>\n",
       "\t<tr><th scope=row>5</th><td>28.000</td><td>5</td><td>average_length</td><td>9.889908</td></tr>\n",
       "\t<tr><th scope=row>6</th><td>23.000</td><td>5</td><td>average_length</td><td>7.779661</td></tr>\n",
       "</tbody>\n",
       "</table>\n"
      ],
      "text/latex": [
       "A data.frame: 6 × 4\n",
       "\\begin{tabular}{r|llll}\n",
       "  & time & reactor & variable & value\\\\\n",
       "  & <dbl> & <int> & <chr> & <dbl>\\\\\n",
       "\\hline\n",
       "\t1 &  5.000 & 5 & average\\_length & 7.306122\\\\\n",
       "\t2 & 29.001 & 5 & average\\_length & 7.280992\\\\\n",
       "\t3 &  6.000 & 5 & average\\_length & 7.423077\\\\\n",
       "\t4 &  4.000 & 5 & average\\_length & 7.617647\\\\\n",
       "\t5 & 28.000 & 5 & average\\_length & 9.889908\\\\\n",
       "\t6 & 23.000 & 5 & average\\_length & 7.779661\\\\\n",
       "\\end{tabular}\n"
      ],
      "text/markdown": [
       "\n",
       "A data.frame: 6 × 4\n",
       "\n",
       "| <!--/--> | time &lt;dbl&gt; | reactor &lt;int&gt; | variable &lt;chr&gt; | value &lt;dbl&gt; |\n",
       "|---|---|---|---|---|\n",
       "| 1 |  5.000 | 5 | average_length | 7.306122 |\n",
       "| 2 | 29.001 | 5 | average_length | 7.280992 |\n",
       "| 3 |  6.000 | 5 | average_length | 7.423077 |\n",
       "| 4 |  4.000 | 5 | average_length | 7.617647 |\n",
       "| 5 | 28.000 | 5 | average_length | 9.889908 |\n",
       "| 6 | 23.000 | 5 | average_length | 7.779661 |\n",
       "\n"
      ],
      "text/plain": [
       "  time   reactor variable       value   \n",
       "1  5.000 5       average_length 7.306122\n",
       "2 29.001 5       average_length 7.280992\n",
       "3  6.000 5       average_length 7.423077\n",
       "4  4.000 5       average_length 7.617647\n",
       "5 28.000 5       average_length 9.889908\n",
       "6 23.000 5       average_length 7.779661"
      ]
     },
     "metadata": {},
     "output_type": "display_data"
    }
   ],
   "source": [
    "averages_data = example_run %>% \n",
    "    filter(variable %in% c(\"average_length\")) %>%\n",
    "    filter(time < 30)\n",
    "head(averages_data)"
   ]
  },
  {
   "cell_type": "code",
   "execution_count": 42,
   "id": "8aead688-6e8e-4ed9-8eeb-5fbc565a260f",
   "metadata": {},
   "outputs": [
    {
     "name": "stderr",
     "output_type": "stream",
     "text": [
      "Warning message:\n",
      "\"Removed 4 row(s) containing missing values (geom_path).\"\n",
      "Warning message:\n",
      "\"Removed 4 row(s) containing missing values (geom_path).\"\n"
     ]
    },
    {
     "data": {
      "image/png": "[encoded data removed]",
      "text/plain": [
       "plot without title"
      ]
     },
     "metadata": {
      "image/png": {
       "height": 420,
       "width": 420
      }
     },
     "output_type": "display_data"
    }
   ],
   "source": [
    "time_series_plot <- ggplot(averages_data) + \n",
    "                        geom_line(aes(x = time, \n",
    "                                      y = value, \n",
    "                                      group = reactor, \n",
    "                                      color = as.factor(reactor)), \n",
    "                                      size = 2) +\n",
    "                        dark_theme_linedraw() +\n",
    "                        theme(text = element_text(size=16), \n",
    "                             ) + \n",
    "                        labs(x = \"Time\", y = \"Average\", color = \"Reactor\") +\n",
    "                        scale_color_nejm()\n",
    "\n",
    "time_series_plot\n",
    "ggsave(\"Distributed-5-chain_mean_Presentation.svg\", w = 89, h = 89, units = 'mm')"
   ]
  },
  {
   "cell_type": "code",
   "execution_count": 43,
   "id": "3fe6e8fb-3b10-4797-8401-e122c49548c3",
   "metadata": {},
   "outputs": [
    {
     "data": {
      "text/html": [
       "<table class=\"dataframe\">\n",
       "<caption>A data.frame: 6 × 4</caption>\n",
       "<thead>\n",
       "\t<tr><th></th><th scope=col>time</th><th scope=col>reactor</th><th scope=col>variable</th><th scope=col>value</th></tr>\n",
       "\t<tr><th></th><th scope=col>&lt;dbl&gt;</th><th scope=col>&lt;int&gt;</th><th scope=col>&lt;chr&gt;</th><th scope=col>&lt;dbl&gt;</th></tr>\n",
       "</thead>\n",
       "<tbody>\n",
       "\t<tr><th scope=row>1</th><td> 5.000</td><td>5</td><td>var_length</td><td> 54.40017</td></tr>\n",
       "\t<tr><th scope=row>2</th><td>29.001</td><td>5</td><td>var_length</td><td> 87.47039</td></tr>\n",
       "\t<tr><th scope=row>3</th><td> 6.000</td><td>5</td><td>var_length</td><td> 99.10082</td></tr>\n",
       "\t<tr><th scope=row>4</th><td> 4.000</td><td>5</td><td>var_length</td><td>131.64444</td></tr>\n",
       "\t<tr><th scope=row>5</th><td>28.000</td><td>5</td><td>var_length</td><td>269.26555</td></tr>\n",
       "\t<tr><th scope=row>6</th><td>23.000</td><td>5</td><td>var_length</td><td>151.66044</td></tr>\n",
       "</tbody>\n",
       "</table>\n"
      ],
      "text/latex": [
       "A data.frame: 6 × 4\n",
       "\\begin{tabular}{r|llll}\n",
       "  & time & reactor & variable & value\\\\\n",
       "  & <dbl> & <int> & <chr> & <dbl>\\\\\n",
       "\\hline\n",
       "\t1 &  5.000 & 5 & var\\_length &  54.40017\\\\\n",
       "\t2 & 29.001 & 5 & var\\_length &  87.47039\\\\\n",
       "\t3 &  6.000 & 5 & var\\_length &  99.10082\\\\\n",
       "\t4 &  4.000 & 5 & var\\_length & 131.64444\\\\\n",
       "\t5 & 28.000 & 5 & var\\_length & 269.26555\\\\\n",
       "\t6 & 23.000 & 5 & var\\_length & 151.66044\\\\\n",
       "\\end{tabular}\n"
      ],
      "text/markdown": [
       "\n",
       "A data.frame: 6 × 4\n",
       "\n",
       "| <!--/--> | time &lt;dbl&gt; | reactor &lt;int&gt; | variable &lt;chr&gt; | value &lt;dbl&gt; |\n",
       "|---|---|---|---|---|\n",
       "| 1 |  5.000 | 5 | var_length |  54.40017 |\n",
       "| 2 | 29.001 | 5 | var_length |  87.47039 |\n",
       "| 3 |  6.000 | 5 | var_length |  99.10082 |\n",
       "| 4 |  4.000 | 5 | var_length | 131.64444 |\n",
       "| 5 | 28.000 | 5 | var_length | 269.26555 |\n",
       "| 6 | 23.000 | 5 | var_length | 151.66044 |\n",
       "\n"
      ],
      "text/plain": [
       "  time   reactor variable   value    \n",
       "1  5.000 5       var_length  54.40017\n",
       "2 29.001 5       var_length  87.47039\n",
       "3  6.000 5       var_length  99.10082\n",
       "4  4.000 5       var_length 131.64444\n",
       "5 28.000 5       var_length 269.26555\n",
       "6 23.000 5       var_length 151.66044"
      ]
     },
     "metadata": {},
     "output_type": "display_data"
    }
   ],
   "source": [
    "averages_data = example_run %>% \n",
    "    filter(variable %in% c(\"var_length\")) %>%\n",
    "    filter(time < 30)\n",
    "head(averages_data)"
   ]
  },
  {
   "cell_type": "code",
   "execution_count": 47,
   "id": "9e372b45-2951-4a13-8cad-aca7d35150b9",
   "metadata": {},
   "outputs": [
    {
     "name": "stderr",
     "output_type": "stream",
     "text": [
      "Warning message:\n",
      "\"Removed 4 row(s) containing missing values (geom_path).\"\n",
      "Warning message:\n",
      "\"Removed 4 row(s) containing missing values (geom_path).\"\n"
     ]
    },
    {
     "data": {
      "image/png": "[encoded data removed]",
      "text/plain": [
       "plot without title"
      ]
     },
     "metadata": {
      "image/png": {
       "height": 420,
       "width": 420
      }
     },
     "output_type": "display_data"
    }
   ],
   "source": [
    "ave_plot <- ggplot(averages_data) + \n",
    "                        geom_line(aes(x = time, \n",
    "                                      y = value, \n",
    "                                      group = reactor, \n",
    "                                      color = as.factor(reactor)), \n",
    "                                      size = 2) +\n",
    "                        dark_theme_linedraw() +\n",
    "                        theme(text = element_text(size=16), \n",
    "                             ) + \n",
    "                        labs(x = \"Time\", y = \"Variance\", color = \"Reactor\") +\n",
    "                        scale_color_nejm()\n",
    "\n",
    "ave_plot\n",
    "ggsave(\"Distributed-5-chain_var_Presentation.jpeg\", w = 89, h = 89, units = 'mm')"
   ]
  },
  {
   "cell_type": "code",
   "execution_count": 30,
   "id": "a0fce386-d66b-431b-954a-ccb1ef790d0b",
   "metadata": {},
   "outputs": [
    {
     "data": {
      "text/html": [
       "<table class=\"dataframe\">\n",
       "<caption>A data.frame: 6 × 4</caption>\n",
       "<thead>\n",
       "\t<tr><th></th><th scope=col>time</th><th scope=col>reactor</th><th scope=col>variable</th><th scope=col>value</th></tr>\n",
       "\t<tr><th></th><th scope=col>&lt;dbl&gt;</th><th scope=col>&lt;int&gt;</th><th scope=col>&lt;chr&gt;</th><th scope=col>&lt;dbl&gt;</th></tr>\n",
       "</thead>\n",
       "<tbody>\n",
       "\t<tr><th scope=row>1</th><td>5</td><td>5</td><td>molecule_count</td><td>98.00000</td></tr>\n",
       "\t<tr><th scope=row>2</th><td>5</td><td>5</td><td>var_length    </td><td>54.40017</td></tr>\n",
       "\t<tr><th scope=row>3</th><td>5</td><td>5</td><td>5             </td><td> 7.00000</td></tr>\n",
       "\t<tr><th scope=row>4</th><td>5</td><td>5</td><td>16            </td><td> 5.00000</td></tr>\n",
       "\t<tr><th scope=row>5</th><td>5</td><td>5</td><td>20            </td><td> 3.00000</td></tr>\n",
       "\t<tr><th scope=row>6</th><td>5</td><td>5</td><td>72            </td><td> 1.00000</td></tr>\n",
       "</tbody>\n",
       "</table>\n"
      ],
      "text/latex": [
       "A data.frame: 6 × 4\n",
       "\\begin{tabular}{r|llll}\n",
       "  & time & reactor & variable & value\\\\\n",
       "  & <dbl> & <int> & <chr> & <dbl>\\\\\n",
       "\\hline\n",
       "\t1 & 5 & 5 & molecule\\_count & 98.00000\\\\\n",
       "\t2 & 5 & 5 & var\\_length     & 54.40017\\\\\n",
       "\t3 & 5 & 5 & 5              &  7.00000\\\\\n",
       "\t4 & 5 & 5 & 16             &  5.00000\\\\\n",
       "\t5 & 5 & 5 & 20             &  3.00000\\\\\n",
       "\t6 & 5 & 5 & 72             &  1.00000\\\\\n",
       "\\end{tabular}\n"
      ],
      "text/markdown": [
       "\n",
       "A data.frame: 6 × 4\n",
       "\n",
       "| <!--/--> | time &lt;dbl&gt; | reactor &lt;int&gt; | variable &lt;chr&gt; | value &lt;dbl&gt; |\n",
       "|---|---|---|---|---|\n",
       "| 1 | 5 | 5 | molecule_count | 98.00000 |\n",
       "| 2 | 5 | 5 | var_length     | 54.40017 |\n",
       "| 3 | 5 | 5 | 5              |  7.00000 |\n",
       "| 4 | 5 | 5 | 16             |  5.00000 |\n",
       "| 5 | 5 | 5 | 20             |  3.00000 |\n",
       "| 6 | 5 | 5 | 72             |  1.00000 |\n",
       "\n"
      ],
      "text/plain": [
       "  time reactor variable       value   \n",
       "1 5    5       molecule_count 98.00000\n",
       "2 5    5       var_length     54.40017\n",
       "3 5    5       5               7.00000\n",
       "4 5    5       16              5.00000\n",
       "5 5    5       20              3.00000\n",
       "6 5    5       72              1.00000"
      ]
     },
     "metadata": {},
     "output_type": "display_data"
    }
   ],
   "source": []
  },
  {
   "cell_type": "code",
   "execution_count": 31,
   "id": "c0e97260-fab7-4ad1-a979-3dbff6e8ea57",
   "metadata": {},
   "outputs": [],
   "source": [
    "complete_timeseries_df <- example_run %>% filter(!variable %in% c(\"molecule_count\", \"var_length\", \"average_length\"))  "
   ]
  },
  {
   "cell_type": "code",
   "execution_count": 32,
   "id": "8a97b58b-b916-439c-bf17-315e6bed9d7b",
   "metadata": {},
   "outputs": [],
   "source": [
    "complete_timeseries_df[\"AI\"] <- assembly_index(as.numeric(complete_timeseries_df$variable))"
   ]
  },
  {
   "cell_type": "code",
   "execution_count": 33,
   "id": "afa11769-bca7-4d30-80b3-17862cdbc753",
   "metadata": {},
   "outputs": [
    {
     "name": "stderr",
     "output_type": "stream",
     "text": [
      "`summarise()` has grouped output by 'AI', 'reactor'. You can override using the `.groups` argument.\n",
      "\n"
     ]
    }
   ],
   "source": [
    "reduced_time <- complete_timeseries_df %>%\n",
    "                    group_by(AI, reactor, time) %>% \n",
    "                    summarise(total = sum(value))"
   ]
  },
  {
   "cell_type": "code",
   "execution_count": 34,
   "id": "3b78a99e-eec5-47b0-acbe-faea898c58d0",
   "metadata": {},
   "outputs": [
    {
     "name": "stderr",
     "output_type": "stream",
     "text": [
      "`summarise()` has grouped output by 'AI'. You can override using the `.groups` argument.\n",
      "\n"
     ]
    }
   ],
   "source": [
    "time_ave <- reduced_time %>% \n",
    "                group_by(AI, reactor) %>% \n",
    "                summarise(ave = mean(total), \n",
    "                          std = sqrt(var(total))) "
   ]
  },
  {
   "cell_type": "code",
   "execution_count": 36,
   "id": "50416c55-a41d-4142-a060-2d34a6c699ce",
   "metadata": {},
   "outputs": [],
   "source": [
    "distributed_distribution_plot <- ggplot(time_ave) + \n",
    "                                    geom_col(aes(x = AI, y = ave, fill = as.factor(reactor)), position = \"dodge2\") +\n",
    "                                    dark_theme_linedraw() +\n",
    "                                    theme(text = element_text(size=16), \n",
    "                                                             ) +\n",
    "                                    facet_wrap(~reactor) + \n",
    "                                    labs(x = \"Assembly Index\", y = \"Count\", fill = \"Reactor\") +\n",
    "                                    scale_fill_nejm()\n",
    "\n",
    "ggsave(\"Distributed-5-chain_distribution_Presentation.jpeg\", w = 183, h = 247/2, units = 'mm')"
   ]
  },
  {
   "cell_type": "code",
   "execution_count": null,
   "id": "374fa498-a684-42fc-b175-db869bdd4801",
   "metadata": {},
   "outputs": [],
   "source": []
  }
 ],
 "metadata": {
  "kernelspec": {
   "display_name": "R",
   "language": "R",
   "name": "ir"
  },
  "language_info": {
   "codemirror_mode": "r",
   "file_extension": ".r",
   "mimetype": "text/x-r-source",
   "name": "R",
   "pygments_lexer": "r",
   "version": "4.1.1"
  }
 },
 "nbformat": 4,
 "nbformat_minor": 5
}
