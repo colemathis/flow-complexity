{
 "cells": [
  {
   "cell_type": "markdown",
   "metadata": {},
   "source": [
    "# Load the data"
   ]
  },
  {
   "cell_type": "code",
   "execution_count": null,
   "metadata": {
    "vscode": {
     "languageId": "julia"
    }
   },
   "outputs": [],
   "source": [
    "using CSV\n",
    "using DataFrames\n",
    "\n",
    "save_directory = \"MS-dummy/sub_task\"\n",
    "sim_number_string = \"000001\"\n",
    "\n",
    "fn = datadir(\"sims\", save_directory, sim_number_string) * \"/timeseries.csv\"\n",
    "df = CSV.read(fn, DataFrame)\n",
    "sort!(df, :time) ;"
   ]
  },
  {
   "cell_type": "markdown",
   "metadata": {},
   "source": [
    "# Plot the figures"
   ]
  },
  {
   "cell_type": "code",
   "execution_count": null,
   "metadata": {
    "vscode": {
     "languageId": "julia"
    }
   },
   "outputs": [],
   "source": [
    "using Plots\n",
    "\n",
    "p = plot(xlabel=\"Time\", ylabel=\"Count\")\n",
    "\n",
    "for i in 2:10\n",
    "    filtered_df = filter(row -> row[:variable] == i, df)\n",
    "    plot!(p, filtered_df.time, filtered_df.value, label=\"$i\")\n",
    "end\n",
    "\n",
    "display(p)"
   ]
  }
 ],
 "metadata": {
  "language_info": {
   "name": "python"
  }
 },
 "nbformat": 4,
 "nbformat_minor": 2
}
