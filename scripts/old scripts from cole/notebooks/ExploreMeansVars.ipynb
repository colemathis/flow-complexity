{
 "cells": [
  {
   "cell_type": "code",
   "execution_count": 143,
   "id": "32369184-0930-401b-bd02-d3ea82332774",
   "metadata": {},
   "outputs": [],
   "source": [
    "library(tidyverse)\n",
    "library(ggdark)\n",
    "library(igraph)\n",
    "library(\"NatParksPalettes\")\n",
    "library(\"geomtextpath\")\n",
    "source(\"../scripts//analyze-timeseries.r\")\n",
    "source(\"../scripts//analyze-graphs.r\")"
   ]
  },
  {
   "cell_type": "code",
   "execution_count": 144,
   "id": "dff43345-70cb-4ff3-95a1-69e6c66a38ef",
   "metadata": {},
   "outputs": [
    {
     "data": {
      "text/html": [
       "<table class=\"dataframe\">\n",
       "<caption>A data.frame: 3 × 22</caption>\n",
       "<thead>\n",
       "\t<tr><th></th><th scope=col>X</th><th scope=col>N_inflow</th><th scope=col>N_reactors</th><th scope=col>ave_forward_rate</th><th scope=col>ave_outflow_rate</th><th scope=col>graph_type</th><th scope=col>mass</th><th scope=col>output_count</th><th scope=col>output_time</th><th scope=col>random_seed</th><th scope=col>...</th><th scope=col>sim_notes</th><th scope=col>sim_number</th><th scope=col>total_time</th><th scope=col>alpha</th><th scope=col>alpha.plus</th><th scope=col>alpha.minus</th><th scope=col>r2</th><th scope=col>max.AI</th><th scope=col>median.AI</th><th scope=col>weighted.mean.AI</th></tr>\n",
       "\t<tr><th></th><th scope=col>&lt;int&gt;</th><th scope=col>&lt;int&gt;</th><th scope=col>&lt;int&gt;</th><th scope=col>&lt;dbl&gt;</th><th scope=col>&lt;int&gt;</th><th scope=col>&lt;chr&gt;</th><th scope=col>&lt;int&gt;</th><th scope=col>&lt;int&gt;</th><th scope=col>&lt;int&gt;</th><th scope=col>&lt;dbl&gt;</th><th scope=col>...</th><th scope=col>&lt;chr&gt;</th><th scope=col>&lt;int&gt;</th><th scope=col>&lt;int&gt;</th><th scope=col>&lt;dbl&gt;</th><th scope=col>&lt;dbl&gt;</th><th scope=col>&lt;dbl&gt;</th><th scope=col>&lt;dbl&gt;</th><th scope=col>&lt;int&gt;</th><th scope=col>&lt;dbl&gt;</th><th scope=col>&lt;dbl&gt;</th></tr>\n",
       "</thead>\n",
       "<tbody>\n",
       "\t<tr><th scope=row>1</th><td>1</td><td>1</td><td>9</td><td>5e-07</td><td>1</td><td>lattice</td><td>1000</td><td>-1</td><td>1</td><td>1636141407</td><td>...</td><td>Lattice Parameter Sweep July 14 2022</td><td>10000</td><td>100</td><td>NA</td><td>NA</td><td>NA</td><td>NA</td><td>1</td><td>0.5</td><td>0.0007873810</td></tr>\n",
       "\t<tr><th scope=row>2</th><td>2</td><td>1</td><td>9</td><td>5e-07</td><td>2</td><td>lattice</td><td>1000</td><td>-1</td><td>1</td><td>3836141407</td><td>...</td><td>Lattice Parameter Sweep July 14 2022</td><td>10001</td><td>100</td><td>NA</td><td>NA</td><td>NA</td><td>NA</td><td>1</td><td>0.5</td><td>0.0007631074</td></tr>\n",
       "\t<tr><th scope=row>3</th><td>3</td><td>1</td><td>9</td><td>5e-07</td><td>5</td><td>lattice</td><td>1000</td><td>-1</td><td>1</td><td>1037141407</td><td>...</td><td>Lattice Parameter Sweep July 14 2022</td><td>10002</td><td>100</td><td>NA</td><td>NA</td><td>NA</td><td>NA</td><td>1</td><td>0.5</td><td>0.0006640729</td></tr>\n",
       "</tbody>\n",
       "</table>\n"
      ],
      "text/latex": [
       "A data.frame: 3 × 22\n",
       "\\begin{tabular}{r|lllllllllllllllllllll}\n",
       "  & X & N\\_inflow & N\\_reactors & ave\\_forward\\_rate & ave\\_outflow\\_rate & graph\\_type & mass & output\\_count & output\\_time & random\\_seed & ... & sim\\_notes & sim\\_number & total\\_time & alpha & alpha.plus & alpha.minus & r2 & max.AI & median.AI & weighted.mean.AI\\\\\n",
       "  & <int> & <int> & <int> & <dbl> & <int> & <chr> & <int> & <int> & <int> & <dbl> & ... & <chr> & <int> & <int> & <dbl> & <dbl> & <dbl> & <dbl> & <int> & <dbl> & <dbl>\\\\\n",
       "\\hline\n",
       "\t1 & 1 & 1 & 9 & 5e-07 & 1 & lattice & 1000 & -1 & 1 & 1636141407 & ... & Lattice Parameter Sweep July 14 2022 & 10000 & 100 & NA & NA & NA & NA & 1 & 0.5 & 0.0007873810\\\\\n",
       "\t2 & 2 & 1 & 9 & 5e-07 & 2 & lattice & 1000 & -1 & 1 & 3836141407 & ... & Lattice Parameter Sweep July 14 2022 & 10001 & 100 & NA & NA & NA & NA & 1 & 0.5 & 0.0007631074\\\\\n",
       "\t3 & 3 & 1 & 9 & 5e-07 & 5 & lattice & 1000 & -1 & 1 & 1037141407 & ... & Lattice Parameter Sweep July 14 2022 & 10002 & 100 & NA & NA & NA & NA & 1 & 0.5 & 0.0006640729\\\\\n",
       "\\end{tabular}\n"
      ],
      "text/markdown": [
       "\n",
       "A data.frame: 3 × 22\n",
       "\n",
       "| <!--/--> | X &lt;int&gt; | N_inflow &lt;int&gt; | N_reactors &lt;int&gt; | ave_forward_rate &lt;dbl&gt; | ave_outflow_rate &lt;int&gt; | graph_type &lt;chr&gt; | mass &lt;int&gt; | output_count &lt;int&gt; | output_time &lt;int&gt; | random_seed &lt;dbl&gt; | ... ... | sim_notes &lt;chr&gt; | sim_number &lt;int&gt; | total_time &lt;int&gt; | alpha &lt;dbl&gt; | alpha.plus &lt;dbl&gt; | alpha.minus &lt;dbl&gt; | r2 &lt;dbl&gt; | max.AI &lt;int&gt; | median.AI &lt;dbl&gt; | weighted.mean.AI &lt;dbl&gt; |\n",
       "|---|---|---|---|---|---|---|---|---|---|---|---|---|---|---|---|---|---|---|---|---|---|\n",
       "| 1 | 1 | 1 | 9 | 5e-07 | 1 | lattice | 1000 | -1 | 1 | 1636141407 | ... | Lattice Parameter Sweep July 14 2022 | 10000 | 100 | NA | NA | NA | NA | 1 | 0.5 | 0.0007873810 |\n",
       "| 2 | 2 | 1 | 9 | 5e-07 | 2 | lattice | 1000 | -1 | 1 | 3836141407 | ... | Lattice Parameter Sweep July 14 2022 | 10001 | 100 | NA | NA | NA | NA | 1 | 0.5 | 0.0007631074 |\n",
       "| 3 | 3 | 1 | 9 | 5e-07 | 5 | lattice | 1000 | -1 | 1 | 1037141407 | ... | Lattice Parameter Sweep July 14 2022 | 10002 | 100 | NA | NA | NA | NA | 1 | 0.5 | 0.0006640729 |\n",
       "\n"
      ],
      "text/plain": [
       "  X N_inflow N_reactors ave_forward_rate ave_outflow_rate graph_type mass\n",
       "1 1 1        9          5e-07            1                lattice    1000\n",
       "2 2 1        9          5e-07            2                lattice    1000\n",
       "3 3 1        9          5e-07            5                lattice    1000\n",
       "  output_count output_time random_seed ... sim_notes                           \n",
       "1 -1           1           1636141407  ... Lattice Parameter Sweep July 14 2022\n",
       "2 -1           1           3836141407  ... Lattice Parameter Sweep July 14 2022\n",
       "3 -1           1           1037141407  ... Lattice Parameter Sweep July 14 2022\n",
       "  sim_number total_time alpha alpha.plus alpha.minus r2 max.AI median.AI\n",
       "1 10000      100        NA    NA         NA          NA 1      0.5      \n",
       "2 10001      100        NA    NA         NA          NA 1      0.5      \n",
       "3 10002      100        NA    NA         NA          NA 1      0.5      \n",
       "  weighted.mean.AI\n",
       "1 0.0007873810    \n",
       "2 0.0007631074    \n",
       "3 0.0006640729    "
      ]
     },
     "metadata": {},
     "output_type": "display_data"
    }
   ],
   "source": [
    "all.runs <- read.csv(\"../data/2022_07_22_parameter_sweep_stats.csv\")\n",
    "head(all.runs,3)"
   ]
  },
  {
   "cell_type": "code",
   "execution_count": 151,
   "id": "4e5af4d7-d766-42fa-9a50-24f8ae60c372",
   "metadata": {},
   "outputs": [
    {
     "name": "stdout",
     "output_type": "stream",
     "text": [
      "[1] 25119\n"
     ]
    }
   ],
   "source": [
    "multi.reactor <- all.runs %>% filter(N_reactors == 25, \n",
    "                                      ave_forward_rate == 5e-5, \n",
    "                                      ave_outflow_rate==10, \n",
    "                                      graph_type == \"line\")\n",
    "sim_num = multi.reactor$sim_number\n",
    "print(sim_num)"
   ]
  },
  {
   "cell_type": "code",
   "execution_count": 152,
   "id": "a71ddee4-f366-4630-b536-f14f35a79dbc",
   "metadata": {},
   "outputs": [],
   "source": [
    "ts_data <- read.csv(paste0(sim_number_to_directory(sim_num),\"timeseries.csv\"))\n",
    "ts_graph <- graph_from_sim_num(sim_num)"
   ]
  },
  {
   "cell_type": "code",
   "execution_count": 153,
   "id": "c02c929d-c70b-4b90-8b1d-715a2faa81ec",
   "metadata": {},
   "outputs": [
    {
     "data": {
      "text/html": [
       "4"
      ],
      "text/latex": [
       "4"
      ],
      "text/markdown": [
       "4"
      ],
      "text/plain": [
       "[1] 4"
      ]
     },
     "metadata": {},
     "output_type": "display_data"
    }
   ],
   "source": [
    "mean_dist_from_source(ts_graph, 5)"
   ]
  },
  {
   "cell_type": "code",
   "execution_count": 154,
   "id": "966519cc-5b38-404b-8056-c91178aa2633",
   "metadata": {},
   "outputs": [
    {
     "name": "stderr",
     "output_type": "stream",
     "text": [
      "\u001b[1m\u001b[22m`summarise()` has grouped output by 'reactor'. You can override using the `.groups` argument.\n",
      "\u001b[1m\u001b[22m`summarise()` has grouped output by 'reactor'. You can override using the `.groups` argument.\n"
     ]
    },
    {
     "ename": "ERROR",
     "evalue": "Error in rep(ai, ai.copy.number): invalid 'times' argument\n",
     "output_type": "error",
     "traceback": [
      "Error in rep(ai, ai.copy.number): invalid 'times' argument\nTraceback:\n",
      "1. get_poisson_fit_from_sim(sim_num)"
     ]
    }
   ],
   "source": [
    "fit.by.row <- get_poisson_fit_from_sim(sim_num)"
   ]
  },
  {
   "cell_type": "code",
   "execution_count": null,
   "id": "3d3780fd-755a-4bb9-8e00-16c0e765f48b",
   "metadata": {},
   "outputs": [],
   "source": [
    "fit.by.row$d <- sapply(fit.by.row$reactor, mean_dist_from_source, graph=ts_graph)"
   ]
  },
  {
   "cell_type": "code",
   "execution_count": null,
   "id": "489d4d21-56d6-4a37-9545-e967b3ebde37",
   "metadata": {},
   "outputs": [],
   "source": [
    "p <- ggplot(fit.by.row) + \n",
    "        geom_point(aes(x = d,\n",
    "                       y = lambda,\n",
    "                       color = as.factor(reactor) \n",
    "                      )) +\n",
    "        geom_errorbar(aes(x = d, \n",
    "                          ymin = lambda.minus, \n",
    "                          ymax = lambda.plus,\n",
    "                          color = as.factor(reactor)\n",
    "                         ), width = 0.5) +\n",
    "        dark_theme_bw(base_size = 14) +\n",
    "        labs(x = \"Distance from Source\", \n",
    "             y = \"Mean AI (Poission Distribution)\",\n",
    "             color =  \"Reactor\")\n",
    "\n",
    "p\n",
    "ggsave(\"../plots/220722-MLE-Mean-Dist-Line-25.jpeg\", p, height = 89, width = 89, units = \"mm\")\n",
    "ggsave(\"../plots/220722-MLE-Mean-Dist-Line-25.svg\", p, height = 89, width = 89, units = \"mm\")\n"
   ]
  },
  {
   "cell_type": "code",
   "execution_count": 142,
   "id": "82a90877-c3ef-4e75-9564-04c41f217837",
   "metadata": {},
   "outputs": [
    {
     "data": {
      "image/png": "[encoded data removed]",
      "text/plain": [
       "plot without title"
      ]
     },
     "metadata": {
      "image/png": {
       "height": 420,
       "width": 420
      }
     },
     "output_type": "display_data"
    }
   ],
   "source": [
    "p"
   ]
  },
  {
   "cell_type": "code",
   "execution_count": null,
   "id": "0b36fc21-8c27-404f-9fc2-0221803eb01f",
   "metadata": {},
   "outputs": [],
   "source": []
  }
 ],
 "metadata": {
  "kernelspec": {
   "display_name": "R",
   "language": "R",
   "name": "ir"
  },
  "language_info": {
   "codemirror_mode": "r",
   "file_extension": ".r",
   "mimetype": "text/x-r-source",
   "name": "R",
   "pygments_lexer": "r",
   "version": "4.1.1"
  }
 },
 "nbformat": 4,
 "nbformat_minor": 5
}
