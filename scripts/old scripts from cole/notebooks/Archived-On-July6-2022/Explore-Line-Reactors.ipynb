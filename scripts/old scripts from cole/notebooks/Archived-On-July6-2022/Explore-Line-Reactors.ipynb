{
 "cells": [
  {
   "cell_type": "code",
   "execution_count": 57,
   "id": "d62f652f-be6a-4cdb-91f0-333fde00c9b8",
   "metadata": {},
   "outputs": [],
   "source": [
    "library(tidyverse)\n",
    "library(repr)\n",
    "source(\"../scripts/assembly-map.r\")\n",
    "# Change plot size to 4 x 3\n",
    "options(repr.plot.width=10, repr.plot.height=8)"
   ]
  },
  {
   "cell_type": "code",
   "execution_count": 60,
   "id": "e0cf687f-067a-4ea8-9d8c-6877a6e56095",
   "metadata": {},
   "outputs": [
    {
     "name": "stdout",
     "output_type": "stream",
     "text": [
      "[1] \"../data/raw\"  \"line\"         \"reactor/10.0\" \"1000.0\"       \"1.0\"         \n",
      "[6] \"10.0\"         \".csv\"        \n"
     ]
    },
    {
     "data": {
      "text/html": [
       "<dl>\n",
       "\t<dt>$reactors</dt>\n",
       "\t\t<dd>10</dd>\n",
       "\t<dt>$outflow</dt>\n",
       "\t\t<dd>1</dd>\n",
       "\t<dt>$forward</dt>\n",
       "\t\t<dd>10</dd>\n",
       "</dl>\n"
      ],
      "text/latex": [
       "\\begin{description}\n",
       "\\item[\\$reactors] 10\n",
       "\\item[\\$outflow] 1\n",
       "\\item[\\$forward] 10\n",
       "\\end{description}\n"
      ],
      "text/markdown": [
       "$reactors\n",
       ":   10\n",
       "$outflow\n",
       ":   1\n",
       "$forward\n",
       ":   10\n",
       "\n",
       "\n"
      ],
      "text/plain": [
       "$reactors\n",
       "[1] 10\n",
       "\n",
       "$outflow\n",
       "[1] 1\n",
       "\n",
       "$forward\n",
       "[1] 10\n"
      ]
     },
     "metadata": {},
     "output_type": "display_data"
    }
   ],
   "source": [
    "example_file = \"../data/raw_line_reactor/10.0_1000.0_1.0_10.0_.csv\"\n",
    "\n",
    "parse_fname <- function(fname){\n",
    "    substrings = str_split(fname, \"_\")[[1]]\n",
    "    print(substrings)\n",
    "    return(list(reactors = as.numeric(str_split(substrings[3], \"/\")[[1]][2]),\n",
    "                outflow = as.numeric(substrings[5]), \n",
    "                forward = as.numeric(substrings[6]) ))\n",
    "    }\n",
    "\n",
    "parse_fname(example_file)"
   ]
  },
  {
   "cell_type": "code",
   "execution_count": 43,
   "id": "7a0e837f-bc5a-427a-84f0-dc5ad891a583",
   "metadata": {},
   "outputs": [],
   "source": [
    "example_run = read.csv(example_file)"
   ]
  },
  {
   "cell_type": "code",
   "execution_count": 44,
   "id": "36e90128-0615-42e9-898e-b1944584bea0",
   "metadata": {},
   "outputs": [
    {
     "data": {
      "text/html": [
       "<table class=\"dataframe\">\n",
       "<caption>A data.frame: 6 × 4</caption>\n",
       "<thead>\n",
       "\t<tr><th></th><th scope=col>time</th><th scope=col>reactor</th><th scope=col>variable</th><th scope=col>value</th></tr>\n",
       "\t<tr><th></th><th scope=col>&lt;dbl&gt;</th><th scope=col>&lt;int&gt;</th><th scope=col>&lt;chr&gt;</th><th scope=col>&lt;dbl&gt;</th></tr>\n",
       "</thead>\n",
       "<tbody>\n",
       "\t<tr><th scope=row>1</th><td>5</td><td>5</td><td>molecule_count</td><td>103.000</td></tr>\n",
       "\t<tr><th scope=row>2</th><td>5</td><td>5</td><td>var_length    </td><td>161.873</td></tr>\n",
       "\t<tr><th scope=row>3</th><td>5</td><td>5</td><td>5             </td><td>  6.000</td></tr>\n",
       "\t<tr><th scope=row>4</th><td>5</td><td>5</td><td>56            </td><td>  1.000</td></tr>\n",
       "\t<tr><th scope=row>5</th><td>5</td><td>5</td><td>12            </td><td>  4.000</td></tr>\n",
       "\t<tr><th scope=row>6</th><td>5</td><td>5</td><td>24            </td><td>  1.000</td></tr>\n",
       "</tbody>\n",
       "</table>\n"
      ],
      "text/latex": [
       "A data.frame: 6 × 4\n",
       "\\begin{tabular}{r|llll}\n",
       "  & time & reactor & variable & value\\\\\n",
       "  & <dbl> & <int> & <chr> & <dbl>\\\\\n",
       "\\hline\n",
       "\t1 & 5 & 5 & molecule\\_count & 103.000\\\\\n",
       "\t2 & 5 & 5 & var\\_length     & 161.873\\\\\n",
       "\t3 & 5 & 5 & 5              &   6.000\\\\\n",
       "\t4 & 5 & 5 & 56             &   1.000\\\\\n",
       "\t5 & 5 & 5 & 12             &   4.000\\\\\n",
       "\t6 & 5 & 5 & 24             &   1.000\\\\\n",
       "\\end{tabular}\n"
      ],
      "text/markdown": [
       "\n",
       "A data.frame: 6 × 4\n",
       "\n",
       "| <!--/--> | time &lt;dbl&gt; | reactor &lt;int&gt; | variable &lt;chr&gt; | value &lt;dbl&gt; |\n",
       "|---|---|---|---|---|\n",
       "| 1 | 5 | 5 | molecule_count | 103.000 |\n",
       "| 2 | 5 | 5 | var_length     | 161.873 |\n",
       "| 3 | 5 | 5 | 5              |   6.000 |\n",
       "| 4 | 5 | 5 | 56             |   1.000 |\n",
       "| 5 | 5 | 5 | 12             |   4.000 |\n",
       "| 6 | 5 | 5 | 24             |   1.000 |\n",
       "\n"
      ],
      "text/plain": [
       "  time reactor variable       value  \n",
       "1 5    5       molecule_count 103.000\n",
       "2 5    5       var_length     161.873\n",
       "3 5    5       5                6.000\n",
       "4 5    5       56               1.000\n",
       "5 5    5       12               4.000\n",
       "6 5    5       24               1.000"
      ]
     },
     "metadata": {},
     "output_type": "display_data"
    },
    {
     "data": {
      "text/html": [
       "<table class=\"dataframe\">\n",
       "<caption>A data.frame: 6 × 4</caption>\n",
       "<thead>\n",
       "\t<tr><th></th><th scope=col>time</th><th scope=col>reactor</th><th scope=col>variable</th><th scope=col>value</th></tr>\n",
       "\t<tr><th></th><th scope=col>&lt;dbl&gt;</th><th scope=col>&lt;int&gt;</th><th scope=col>&lt;chr&gt;</th><th scope=col>&lt;dbl&gt;</th></tr>\n",
       "</thead>\n",
       "<tbody>\n",
       "\t<tr><th scope=row>1</th><td> 5.000</td><td>5</td><td>molecule_count</td><td>103</td></tr>\n",
       "\t<tr><th scope=row>2</th><td>29.001</td><td>5</td><td>molecule_count</td><td>120</td></tr>\n",
       "\t<tr><th scope=row>3</th><td> 6.000</td><td>5</td><td>molecule_count</td><td> 97</td></tr>\n",
       "\t<tr><th scope=row>4</th><td> 1.001</td><td>5</td><td>molecule_count</td><td> 11</td></tr>\n",
       "\t<tr><th scope=row>5</th><td>13.000</td><td>5</td><td>molecule_count</td><td>109</td></tr>\n",
       "\t<tr><th scope=row>6</th><td>12.000</td><td>5</td><td>molecule_count</td><td> 94</td></tr>\n",
       "</tbody>\n",
       "</table>\n"
      ],
      "text/latex": [
       "A data.frame: 6 × 4\n",
       "\\begin{tabular}{r|llll}\n",
       "  & time & reactor & variable & value\\\\\n",
       "  & <dbl> & <int> & <chr> & <dbl>\\\\\n",
       "\\hline\n",
       "\t1 &  5.000 & 5 & molecule\\_count & 103\\\\\n",
       "\t2 & 29.001 & 5 & molecule\\_count & 120\\\\\n",
       "\t3 &  6.000 & 5 & molecule\\_count &  97\\\\\n",
       "\t4 &  1.001 & 5 & molecule\\_count &  11\\\\\n",
       "\t5 & 13.000 & 5 & molecule\\_count & 109\\\\\n",
       "\t6 & 12.000 & 5 & molecule\\_count &  94\\\\\n",
       "\\end{tabular}\n"
      ],
      "text/markdown": [
       "\n",
       "A data.frame: 6 × 4\n",
       "\n",
       "| <!--/--> | time &lt;dbl&gt; | reactor &lt;int&gt; | variable &lt;chr&gt; | value &lt;dbl&gt; |\n",
       "|---|---|---|---|---|\n",
       "| 1 |  5.000 | 5 | molecule_count | 103 |\n",
       "| 2 | 29.001 | 5 | molecule_count | 120 |\n",
       "| 3 |  6.000 | 5 | molecule_count |  97 |\n",
       "| 4 |  1.001 | 5 | molecule_count |  11 |\n",
       "| 5 | 13.000 | 5 | molecule_count | 109 |\n",
       "| 6 | 12.000 | 5 | molecule_count |  94 |\n",
       "\n"
      ],
      "text/plain": [
       "  time   reactor variable       value\n",
       "1  5.000 5       molecule_count 103  \n",
       "2 29.001 5       molecule_count 120  \n",
       "3  6.000 5       molecule_count  97  \n",
       "4  1.001 5       molecule_count  11  \n",
       "5 13.000 5       molecule_count 109  \n",
       "6 12.000 5       molecule_count  94  "
      ]
     },
     "metadata": {},
     "output_type": "display_data"
    }
   ],
   "source": [
    "head(example_run)\n",
    "averages_data = example_run %>% \n",
    "    filter(variable %in% c(\"molecule_count\")) %>%\n",
    "    filter(time < 30)\n",
    "head(averages_data)"
   ]
  },
  {
   "cell_type": "code",
   "execution_count": 50,
   "id": "9493f409-750f-456c-8a6f-86339af1cb1e",
   "metadata": {},
   "outputs": [
    {
     "data": {
      "image/png": "[encoded data removed]",
      "text/plain": [
       "plot without title"
      ]
     },
     "metadata": {
      "image/png": {
       "height": 480,
       "width": 600
      }
     },
     "output_type": "display_data"
    }
   ],
   "source": [
    "ggplot(averages_data) + \n",
    "    geom_line(aes(x = time, y = value, group = reactor, color = as.factor(reactor)), size = 2) +\n",
    "    theme_bw(base_size = 20) + \n",
    "    labs(x = \"Time\", y = \"Molecule Count\", color = \"Reactor\") "
   ]
  },
  {
   "cell_type": "code",
   "execution_count": 6,
   "id": "81e0fc00-9cd1-4f47-ad10-a6f233e43465",
   "metadata": {},
   "outputs": [
    {
     "data": {
      "text/html": [
       "<table class=\"dataframe\">\n",
       "<caption>A data.frame: 6 × 4</caption>\n",
       "<thead>\n",
       "\t<tr><th></th><th scope=col>time</th><th scope=col>reactor</th><th scope=col>variable</th><th scope=col>value</th></tr>\n",
       "\t<tr><th></th><th scope=col>&lt;dbl&gt;</th><th scope=col>&lt;int&gt;</th><th scope=col>&lt;chr&gt;</th><th scope=col>&lt;dbl&gt;</th></tr>\n",
       "</thead>\n",
       "<tbody>\n",
       "\t<tr><th scope=row>1</th><td>5</td><td>4</td><td>molecule_count</td><td>328.000000</td></tr>\n",
       "\t<tr><th scope=row>2</th><td>5</td><td>4</td><td>var_length    </td><td>  8.724099</td></tr>\n",
       "\t<tr><th scope=row>3</th><td>5</td><td>4</td><td>5             </td><td> 24.000000</td></tr>\n",
       "\t<tr><th scope=row>4</th><td>5</td><td>4</td><td>16            </td><td>  1.000000</td></tr>\n",
       "\t<tr><th scope=row>5</th><td>5</td><td>4</td><td>20            </td><td>  2.000000</td></tr>\n",
       "\t<tr><th scope=row>6</th><td>5</td><td>4</td><td>12            </td><td>  1.000000</td></tr>\n",
       "</tbody>\n",
       "</table>\n"
      ],
      "text/latex": [
       "A data.frame: 6 × 4\n",
       "\\begin{tabular}{r|llll}\n",
       "  & time & reactor & variable & value\\\\\n",
       "  & <dbl> & <int> & <chr> & <dbl>\\\\\n",
       "\\hline\n",
       "\t1 & 5 & 4 & molecule\\_count & 328.000000\\\\\n",
       "\t2 & 5 & 4 & var\\_length     &   8.724099\\\\\n",
       "\t3 & 5 & 4 & 5              &  24.000000\\\\\n",
       "\t4 & 5 & 4 & 16             &   1.000000\\\\\n",
       "\t5 & 5 & 4 & 20             &   2.000000\\\\\n",
       "\t6 & 5 & 4 & 12             &   1.000000\\\\\n",
       "\\end{tabular}\n"
      ],
      "text/markdown": [
       "\n",
       "A data.frame: 6 × 4\n",
       "\n",
       "| <!--/--> | time &lt;dbl&gt; | reactor &lt;int&gt; | variable &lt;chr&gt; | value &lt;dbl&gt; |\n",
       "|---|---|---|---|---|\n",
       "| 1 | 5 | 4 | molecule_count | 328.000000 |\n",
       "| 2 | 5 | 4 | var_length     |   8.724099 |\n",
       "| 3 | 5 | 4 | 5              |  24.000000 |\n",
       "| 4 | 5 | 4 | 16             |   1.000000 |\n",
       "| 5 | 5 | 4 | 20             |   2.000000 |\n",
       "| 6 | 5 | 4 | 12             |   1.000000 |\n",
       "\n"
      ],
      "text/plain": [
       "  time reactor variable       value     \n",
       "1 5    4       molecule_count 328.000000\n",
       "2 5    4       var_length       8.724099\n",
       "3 5    4       5               24.000000\n",
       "4 5    4       16               1.000000\n",
       "5 5    4       20               2.000000\n",
       "6 5    4       12               1.000000"
      ]
     },
     "metadata": {},
     "output_type": "display_data"
    }
   ],
   "source": [
    "head(example_run)"
   ]
  },
  {
   "cell_type": "code",
   "execution_count": 31,
   "id": "c0e97260-fab7-4ad1-a979-3dbff6e8ea57",
   "metadata": {},
   "outputs": [],
   "source": [
    "complete_timeseries_df <- example_run %>% filter(!variable %in% c(\"molecule_count\", \"var_length\", \"average_length\"))  "
   ]
  },
  {
   "cell_type": "code",
   "execution_count": 32,
   "id": "8a97b58b-b916-439c-bf17-315e6bed9d7b",
   "metadata": {},
   "outputs": [],
   "source": [
    "complete_timeseries_df[\"AI\"] <- assembly_index(as.numeric(complete_timeseries_df$variable))"
   ]
  },
  {
   "cell_type": "code",
   "execution_count": 36,
   "id": "c2c0bcbd-b28d-44c7-b36e-378e1b2d1293",
   "metadata": {},
   "outputs": [],
   "source": [
    "time_slice <- complete_timeseries_df %>% filter(time == 30.0)"
   ]
  },
  {
   "cell_type": "code",
   "execution_count": 37,
   "id": "22ddf474-91d1-45fd-8a6b-0984a702e96e",
   "metadata": {},
   "outputs": [
    {
     "name": "stderr",
     "output_type": "stream",
     "text": [
      "`summarise()` has grouped output by 'AI'. You can override using the `.groups` argument.\n",
      "\n"
     ]
    }
   ],
   "source": [
    "reduced_time <- time_slice %>% group_by(AI, reactor) %>% summarise(total = sum(value))"
   ]
  },
  {
   "cell_type": "code",
   "execution_count": 56,
   "id": "50416c55-a41d-4142-a060-2d34a6c699ce",
   "metadata": {},
   "outputs": [
    {
     "data": {
      "image/png": "[encoded data removed]",
      "text/plain": [
       "plot without title"
      ]
     },
     "metadata": {
      "image/png": {
       "height": 480,
       "width": 600
      }
     },
     "output_type": "display_data"
    }
   ],
   "source": [
    "ggplot(reduced_time) + \n",
    "    geom_col(aes(x = AI, y = total, fill = as.factor(reactor)), position = \"dodge2\") + \n",
    "    facet_wrap(~reactor) + \n",
    "    theme_bw(base_size = 18) +\n",
    "    labs(x = \"Assembly Index\", y = \"Count\", fill = \"Reactor\")"
   ]
  },
  {
   "cell_type": "code",
   "execution_count": null,
   "id": "374fa498-a684-42fc-b175-db869bdd4801",
   "metadata": {},
   "outputs": [],
   "source": []
  }
 ],
 "metadata": {
  "kernelspec": {
   "display_name": "R",
   "language": "R",
   "name": "ir"
  },
  "language_info": {
   "codemirror_mode": "r",
   "file_extension": ".r",
   "mimetype": "text/x-r-source",
   "name": "R",
   "pygments_lexer": "r",
   "version": "4.1.1"
  }
 },
 "nbformat": 4,
 "nbformat_minor": 5
}
