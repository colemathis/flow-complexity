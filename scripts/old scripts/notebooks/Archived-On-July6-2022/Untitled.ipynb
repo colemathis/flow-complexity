{
 "cells": [
  {
   "cell_type": "code",
   "execution_count": 1,
   "id": "28af864d-563f-42cd-abcb-47a871790e8f",
   "metadata": {},
   "outputs": [],
   "source": [
    "import pickle \n",
    "import pandas as pd"
   ]
  },
  {
   "cell_type": "code",
   "execution_count": 31,
   "id": "dd9bbd82-5d10-4037-895f-88f0779e20d7",
   "metadata": {},
   "outputs": [],
   "source": [
    "with open(\"../data/Assembly_Number_Dictionary.pickle\", \"rb\") as f:\n",
    "     data = pickle.load(f)"
   ]
  },
  {
   "cell_type": "code",
   "execution_count": 44,
   "id": "a8ec9f18-8c25-4a4d-8afb-f8c3aea372a1",
   "metadata": {},
   "outputs": [],
   "source": [
    "dat_df = pd.DataFrame.from_records(list(data.items()), columns = [\"integer\", \"assembly-index\"])"
   ]
  },
  {
   "cell_type": "code",
   "execution_count": 45,
   "id": "848ebca1-1df6-461c-8192-0512e162fd98",
   "metadata": {},
   "outputs": [],
   "source": [
    "dat_df"
   ]
  },
  {
   "cell_type": "code",
   "execution_count": 46,
   "id": "aa22b2d8-f1d4-4573-bdde-d68ec27485be",
   "metadata": {},
   "outputs": [],
   "source": [
    "dat_df.to_csv(\"Assembly-10000.csv\")"
   ]
  },
  {
   "cell_type": "code",
   "execution_count": 24,
   "id": "bc093dc6-f1f8-436f-b773-bebb5c8c6647",
   "metadata": {},
   "outputs": [
    {
     "data": {
      "text/html": [
       "<div>\n",
       "<style scoped>\n",
       "    .dataframe tbody tr th:only-of-type {\n",
       "        vertical-align: middle;\n",
       "    }\n",
       "\n",
       "    .dataframe tbody tr th {\n",
       "        vertical-align: top;\n",
       "    }\n",
       "\n",
       "    .dataframe thead th {\n",
       "        text-align: right;\n",
       "    }\n",
       "</style>\n",
       "<table border=\"1\" class=\"dataframe\">\n",
       "  <thead>\n",
       "    <tr style=\"text-align: right;\">\n",
       "      <th></th>\n",
       "      <th>0</th>\n",
       "      <th>assembly</th>\n",
       "    </tr>\n",
       "  </thead>\n",
       "  <tbody>\n",
       "    <tr>\n",
       "      <th>1</th>\n",
       "      <td>0</td>\n",
       "      <td>1</td>\n",
       "    </tr>\n",
       "    <tr>\n",
       "      <th>2</th>\n",
       "      <td>1</td>\n",
       "      <td>2</td>\n",
       "    </tr>\n",
       "    <tr>\n",
       "      <th>3</th>\n",
       "      <td>2</td>\n",
       "      <td>3</td>\n",
       "    </tr>\n",
       "    <tr>\n",
       "      <th>4</th>\n",
       "      <td>2</td>\n",
       "      <td>4</td>\n",
       "    </tr>\n",
       "    <tr>\n",
       "      <th>5</th>\n",
       "      <td>3</td>\n",
       "      <td>5</td>\n",
       "    </tr>\n",
       "    <tr>\n",
       "      <th>...</th>\n",
       "      <td>...</td>\n",
       "      <td>...</td>\n",
       "    </tr>\n",
       "    <tr>\n",
       "      <th>9995</th>\n",
       "      <td>17</td>\n",
       "      <td>9995</td>\n",
       "    </tr>\n",
       "    <tr>\n",
       "      <th>9996</th>\n",
       "      <td>16</td>\n",
       "      <td>9996</td>\n",
       "    </tr>\n",
       "    <tr>\n",
       "      <th>9997</th>\n",
       "      <td>16</td>\n",
       "      <td>9997</td>\n",
       "    </tr>\n",
       "    <tr>\n",
       "      <th>9998</th>\n",
       "      <td>16</td>\n",
       "      <td>9998</td>\n",
       "    </tr>\n",
       "    <tr>\n",
       "      <th>9999</th>\n",
       "      <td>16</td>\n",
       "      <td>9999</td>\n",
       "    </tr>\n",
       "  </tbody>\n",
       "</table>\n",
       "<p>9999 rows × 2 columns</p>\n",
       "</div>"
      ],
      "text/plain": [
       "       0  assembly\n",
       "1      0         1\n",
       "2      1         2\n",
       "3      2         3\n",
       "4      2         4\n",
       "5      3         5\n",
       "...   ..       ...\n",
       "9995  17      9995\n",
       "9996  16      9996\n",
       "9997  16      9997\n",
       "9998  16      9998\n",
       "9999  16      9999\n",
       "\n",
       "[9999 rows x 2 columns]"
      ]
     },
     "execution_count": 24,
     "metadata": {},
     "output_type": "execute_result"
    }
   ],
   "source": [
    "dat_df"
   ]
  },
  {
   "cell_type": "code",
   "execution_count": null,
   "id": "31f87e39-f344-42c9-a28d-545f359ad2ad",
   "metadata": {},
   "outputs": [],
   "source": []
  }
 ],
 "metadata": {
  "kernelspec": {
   "display_name": "Python 3 (ipykernel)",
   "language": "python",
   "name": "python3"
  },
  "language_info": {
   "codemirror_mode": {
    "name": "ipython",
    "version": 3
   },
   "file_extension": ".py",
   "mimetype": "text/x-python",
   "name": "python",
   "nbconvert_exporter": "python",
   "pygments_lexer": "ipython3",
   "version": "3.7.10"
  }
 },
 "nbformat": 4,
 "nbformat_minor": 5
}
