{
 "cells": [
  {
   "cell_type": "code",
   "execution_count": 1,
   "id": "a9ccdab4-fdcf-41a8-88de-b734543d1691",
   "metadata": {},
   "outputs": [
    {
     "name": "stderr",
     "output_type": "stream",
     "text": [
      "-- \u001b[1mAttaching packages\u001b[22m ------------------------------------------------------------------------------- tidyverse 1.3.1 --\n",
      "\n",
      "\u001b[32mv\u001b[39m \u001b[34mggplot2\u001b[39m 3.3.5     \u001b[32mv\u001b[39m \u001b[34mpurrr  \u001b[39m 0.3.4\n",
      "\u001b[32mv\u001b[39m \u001b[34mtibble \u001b[39m 3.1.3     \u001b[32mv\u001b[39m \u001b[34mdplyr  \u001b[39m 1.0.7\n",
      "\u001b[32mv\u001b[39m \u001b[34mtidyr  \u001b[39m 1.1.3     \u001b[32mv\u001b[39m \u001b[34mstringr\u001b[39m 1.4.0\n",
      "\u001b[32mv\u001b[39m \u001b[34mreadr  \u001b[39m 2.0.0     \u001b[32mv\u001b[39m \u001b[34mforcats\u001b[39m 0.5.1\n",
      "\n",
      "-- \u001b[1mConflicts\u001b[22m ---------------------------------------------------------------------------------- tidyverse_conflicts() --\n",
      "\u001b[31mx\u001b[39m \u001b[34mdplyr\u001b[39m::\u001b[32mfilter()\u001b[39m masks \u001b[34mstats\u001b[39m::filter()\n",
      "\u001b[31mx\u001b[39m \u001b[34mdplyr\u001b[39m::\u001b[32mlag()\u001b[39m    masks \u001b[34mstats\u001b[39m::lag()\n",
      "\n"
     ]
    }
   ],
   "source": [
    "library(tidyverse)"
   ]
  },
  {
   "cell_type": "code",
   "execution_count": 2,
   "id": "0abab310-d1fa-4740-93ec-5003aac5b02a",
   "metadata": {},
   "outputs": [],
   "source": [
    "prof.df <- read.csv(\"../data//timing_results.csv\")"
   ]
  },
  {
   "cell_type": "code",
   "execution_count": 3,
   "id": "87cd0b81-069e-4ced-85a5-90d801024ead",
   "metadata": {},
   "outputs": [
    {
     "data": {
      "text/html": [
       "<table class=\"dataframe\">\n",
       "<caption>A data.frame: 6 × 5</caption>\n",
       "<thead>\n",
       "\t<tr><th></th><th scope=col>Ïµ</th><th scope=col>outflow</th><th scope=col>iterations</th><th scope=col>mass</th><th scope=col>time</th></tr>\n",
       "\t<tr><th></th><th scope=col>&lt;dbl&gt;</th><th scope=col>&lt;dbl&gt;</th><th scope=col>&lt;int&gt;</th><th scope=col>&lt;int&gt;</th><th scope=col>&lt;dbl&gt;</th></tr>\n",
       "</thead>\n",
       "<tbody>\n",
       "\t<tr><th scope=row>1</th><td>0e+00</td><td>0.000</td><td>100</td><td>100</td><td>0.0003733</td></tr>\n",
       "\t<tr><th scope=row>2</th><td>1e-04</td><td>0.000</td><td>100</td><td>100</td><td>0.0004635</td></tr>\n",
       "\t<tr><th scope=row>3</th><td>1e-03</td><td>0.000</td><td>100</td><td>100</td><td>0.0003586</td></tr>\n",
       "\t<tr><th scope=row>4</th><td>1e-02</td><td>0.000</td><td>100</td><td>100</td><td>0.0004181</td></tr>\n",
       "\t<tr><th scope=row>5</th><td>1e-01</td><td>0.000</td><td>100</td><td>100</td><td>0.0003904</td></tr>\n",
       "\t<tr><th scope=row>6</th><td>0e+00</td><td>0.001</td><td>100</td><td>100</td><td>0.0005080</td></tr>\n",
       "</tbody>\n",
       "</table>\n"
      ],
      "text/latex": [
       "A data.frame: 6 × 5\n",
       "\\begin{tabular}{r|lllll}\n",
       "  & Ïµ & outflow & iterations & mass & time\\\\\n",
       "  & <dbl> & <dbl> & <int> & <int> & <dbl>\\\\\n",
       "\\hline\n",
       "\t1 & 0e+00 & 0.000 & 100 & 100 & 0.0003733\\\\\n",
       "\t2 & 1e-04 & 0.000 & 100 & 100 & 0.0004635\\\\\n",
       "\t3 & 1e-03 & 0.000 & 100 & 100 & 0.0003586\\\\\n",
       "\t4 & 1e-02 & 0.000 & 100 & 100 & 0.0004181\\\\\n",
       "\t5 & 1e-01 & 0.000 & 100 & 100 & 0.0003904\\\\\n",
       "\t6 & 0e+00 & 0.001 & 100 & 100 & 0.0005080\\\\\n",
       "\\end{tabular}\n"
      ],
      "text/markdown": [
       "\n",
       "A data.frame: 6 × 5\n",
       "\n",
       "| <!--/--> | Ïµ &lt;dbl&gt; | outflow &lt;dbl&gt; | iterations &lt;int&gt; | mass &lt;int&gt; | time &lt;dbl&gt; |\n",
       "|---|---|---|---|---|---|\n",
       "| 1 | 0e+00 | 0.000 | 100 | 100 | 0.0003733 |\n",
       "| 2 | 1e-04 | 0.000 | 100 | 100 | 0.0004635 |\n",
       "| 3 | 1e-03 | 0.000 | 100 | 100 | 0.0003586 |\n",
       "| 4 | 1e-02 | 0.000 | 100 | 100 | 0.0004181 |\n",
       "| 5 | 1e-01 | 0.000 | 100 | 100 | 0.0003904 |\n",
       "| 6 | 0e+00 | 0.001 | 100 | 100 | 0.0005080 |\n",
       "\n"
      ],
      "text/plain": [
       "  Ïµ    outflow iterations mass time     \n",
       "1 0e+00 0.000   100        100  0.0003733\n",
       "2 1e-04 0.000   100        100  0.0004635\n",
       "3 1e-03 0.000   100        100  0.0003586\n",
       "4 1e-02 0.000   100        100  0.0004181\n",
       "5 1e-01 0.000   100        100  0.0003904\n",
       "6 0e+00 0.001   100        100  0.0005080"
      ]
     },
     "metadata": {},
     "output_type": "display_data"
    }
   ],
   "source": [
    "head(prof.df)"
   ]
  },
  {
   "cell_type": "code",
   "execution_count": 4,
   "id": "fcc86142-c54d-4bbf-aaf2-1f182aea5add",
   "metadata": {},
   "outputs": [],
   "source": [
    "names(prof.df)[1] <- \"mu\""
   ]
  },
  {
   "cell_type": "code",
   "execution_count": 5,
   "id": "909630ee-13de-4d4f-9a76-ee887a590828",
   "metadata": {},
   "outputs": [
    {
     "data": {
      "text/html": [
       "<table class=\"dataframe\">\n",
       "<caption>A data.frame: 6 × 5</caption>\n",
       "<thead>\n",
       "\t<tr><th></th><th scope=col>mu</th><th scope=col>outflow</th><th scope=col>iterations</th><th scope=col>mass</th><th scope=col>time</th></tr>\n",
       "\t<tr><th></th><th scope=col>&lt;dbl&gt;</th><th scope=col>&lt;dbl&gt;</th><th scope=col>&lt;int&gt;</th><th scope=col>&lt;int&gt;</th><th scope=col>&lt;dbl&gt;</th></tr>\n",
       "</thead>\n",
       "<tbody>\n",
       "\t<tr><th scope=row>1</th><td>0e+00</td><td>0.000</td><td>100</td><td>100</td><td>0.0003733</td></tr>\n",
       "\t<tr><th scope=row>2</th><td>1e-04</td><td>0.000</td><td>100</td><td>100</td><td>0.0004635</td></tr>\n",
       "\t<tr><th scope=row>3</th><td>1e-03</td><td>0.000</td><td>100</td><td>100</td><td>0.0003586</td></tr>\n",
       "\t<tr><th scope=row>4</th><td>1e-02</td><td>0.000</td><td>100</td><td>100</td><td>0.0004181</td></tr>\n",
       "\t<tr><th scope=row>5</th><td>1e-01</td><td>0.000</td><td>100</td><td>100</td><td>0.0003904</td></tr>\n",
       "\t<tr><th scope=row>6</th><td>0e+00</td><td>0.001</td><td>100</td><td>100</td><td>0.0005080</td></tr>\n",
       "</tbody>\n",
       "</table>\n"
      ],
      "text/latex": [
       "A data.frame: 6 × 5\n",
       "\\begin{tabular}{r|lllll}\n",
       "  & mu & outflow & iterations & mass & time\\\\\n",
       "  & <dbl> & <dbl> & <int> & <int> & <dbl>\\\\\n",
       "\\hline\n",
       "\t1 & 0e+00 & 0.000 & 100 & 100 & 0.0003733\\\\\n",
       "\t2 & 1e-04 & 0.000 & 100 & 100 & 0.0004635\\\\\n",
       "\t3 & 1e-03 & 0.000 & 100 & 100 & 0.0003586\\\\\n",
       "\t4 & 1e-02 & 0.000 & 100 & 100 & 0.0004181\\\\\n",
       "\t5 & 1e-01 & 0.000 & 100 & 100 & 0.0003904\\\\\n",
       "\t6 & 0e+00 & 0.001 & 100 & 100 & 0.0005080\\\\\n",
       "\\end{tabular}\n"
      ],
      "text/markdown": [
       "\n",
       "A data.frame: 6 × 5\n",
       "\n",
       "| <!--/--> | mu &lt;dbl&gt; | outflow &lt;dbl&gt; | iterations &lt;int&gt; | mass &lt;int&gt; | time &lt;dbl&gt; |\n",
       "|---|---|---|---|---|---|\n",
       "| 1 | 0e+00 | 0.000 | 100 | 100 | 0.0003733 |\n",
       "| 2 | 1e-04 | 0.000 | 100 | 100 | 0.0004635 |\n",
       "| 3 | 1e-03 | 0.000 | 100 | 100 | 0.0003586 |\n",
       "| 4 | 1e-02 | 0.000 | 100 | 100 | 0.0004181 |\n",
       "| 5 | 1e-01 | 0.000 | 100 | 100 | 0.0003904 |\n",
       "| 6 | 0e+00 | 0.001 | 100 | 100 | 0.0005080 |\n",
       "\n"
      ],
      "text/plain": [
       "  mu    outflow iterations mass time     \n",
       "1 0e+00 0.000   100        100  0.0003733\n",
       "2 1e-04 0.000   100        100  0.0004635\n",
       "3 1e-03 0.000   100        100  0.0003586\n",
       "4 1e-02 0.000   100        100  0.0004181\n",
       "5 1e-01 0.000   100        100  0.0003904\n",
       "6 0e+00 0.001   100        100  0.0005080"
      ]
     },
     "metadata": {},
     "output_type": "display_data"
    }
   ],
   "source": [
    "head(prof.df)"
   ]
  },
  {
   "cell_type": "code",
   "execution_count": 27,
   "id": "87cd81c2-a786-49d0-a4d2-3dc3b3f0d4f6",
   "metadata": {},
   "outputs": [
    {
     "data": {
      "image/png": "[encoded data removed]",
      "text/plain": [
       "plot without title"
      ]
     },
     "metadata": {
      "image/png": {
       "height": 420,
       "width": 420
      }
     },
     "output_type": "display_data"
    }
   ],
   "source": [
    "ggplot(prof.df, aes(x = mass, y = time, color = as.factor(outflow))) + geom_point() + facet_wrap(~iterations) + scale_y_log10() + scale_x_log10()"
   ]
  },
  {
   "cell_type": "code",
   "execution_count": 14,
   "id": "1cdebd19-a6af-416d-9f3e-facc0ae03130",
   "metadata": {},
   "outputs": [],
   "source": [
    "reduced.prof <- prof.df[prof.df$mu == 0.01,]"
   ]
  },
  {
   "cell_type": "code",
   "execution_count": 17,
   "id": "f51f7903-64e4-4b35-aa1a-b66d0b5578de",
   "metadata": {},
   "outputs": [],
   "source": [
    "reduced.prof <- reduced.prof[reduced.prof$outflow == 0.1,]"
   ]
  },
  {
   "cell_type": "code",
   "execution_count": 26,
   "id": "bfbfa5f8-62ad-4965-aa47-a1868a957ad1",
   "metadata": {},
   "outputs": [
    {
     "data": {
      "image/png": "[encoded data removed]",
      "text/plain": [
       "plot without title"
      ]
     },
     "metadata": {
      "image/png": {
       "height": 420,
       "width": 420
      }
     },
     "output_type": "display_data"
    }
   ],
   "source": [
    "ggplot(reduced.prof) + geom_line(aes(x = iterations, y = time, group = mass, color = as.factor(mass))) + scale_y_log10() + scale_x_log10()"
   ]
  },
  {
   "cell_type": "code",
   "execution_count": 28,
   "id": "ad3ef68e-426b-4041-bf37-005593357f75",
   "metadata": {},
   "outputs": [],
   "source": [
    "\n",
    "immutable.df <- read.csv(\"../data//timing_results_immutable.csv\")\n"
   ]
  },
  {
   "cell_type": "code",
   "execution_count": 30,
   "id": "ad95f68d-1302-486e-bf8d-51cfd74413a6",
   "metadata": {},
   "outputs": [],
   "source": [
    "names(immutable.df)[1] = \"mu\""
   ]
  },
  {
   "cell_type": "code",
   "execution_count": 31,
   "id": "439e924e-c255-4e60-af5a-a9d668fc15d0",
   "metadata": {},
   "outputs": [],
   "source": [
    "r.immutable.df <- immutable.df[immutable.df$mu == 0.01,]"
   ]
  },
  {
   "cell_type": "code",
   "execution_count": 34,
   "id": "23094a06-b8b4-48bb-9053-5f5139270ef9",
   "metadata": {},
   "outputs": [],
   "source": [
    "r.immutable.df$source = \"immutable\""
   ]
  },
  {
   "cell_type": "code",
   "execution_count": 40,
   "id": "ee135f50-f2dd-4d19-a34f-8b5706c75f88",
   "metadata": {},
   "outputs": [],
   "source": [
    "reduced.prof$source = \"mutable\""
   ]
  },
  {
   "cell_type": "code",
   "execution_count": 41,
   "id": "d892b028-f6f0-48e2-8755-d30c2767c4e7",
   "metadata": {},
   "outputs": [],
   "source": [
    "all.prof <- rbind(r.immutable.df, reduced.prof)"
   ]
  },
  {
   "cell_type": "code",
   "execution_count": 42,
   "id": "24fc2b2a-9c54-4687-8e2a-43dfdb6d4307",
   "metadata": {},
   "outputs": [],
   "source": [
    "combined.data <- all.prof[all.prof$mass == 2000,]"
   ]
  },
  {
   "cell_type": "code",
   "execution_count": 44,
   "id": "6fe6d3d8-4394-4325-bb33-8de6a32b249e",
   "metadata": {},
   "outputs": [
    {
     "data": {
      "image/png": "[encoded data removed]",
      "text/plain": [
       "plot without title"
      ]
     },
     "metadata": {
      "image/png": {
       "height": 420,
       "width": 420
      }
     },
     "output_type": "display_data"
    }
   ],
   "source": [
    "ggplot(combined.data) + geom_point(aes(x = iterations, y = time, color = source)) + scale_y_log10() + scale_x_log10()"
   ]
  },
  {
   "cell_type": "code",
   "execution_count": null,
   "id": "95af30cd-847e-46c6-bb63-3a1aa4e87a82",
   "metadata": {},
   "outputs": [],
   "source": []
  }
 ],
 "metadata": {
  "kernelspec": {
   "display_name": "R",
   "language": "R",
   "name": "ir"
  },
  "language_info": {
   "codemirror_mode": "r",
   "file_extension": ".r",
   "mimetype": "text/x-r-source",
   "name": "R",
   "pygments_lexer": "r",
   "version": "4.1.1"
  }
 },
 "nbformat": 4,
 "nbformat_minor": 5
}
