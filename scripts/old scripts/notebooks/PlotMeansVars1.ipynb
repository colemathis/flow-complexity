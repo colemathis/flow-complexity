{
 "cells": [
  {
   "cell_type": "code",
   "execution_count": 2,
   "id": "32369184-0930-401b-bd02-d3ea82332774",
   "metadata": {},
   "outputs": [],
   "source": [
    "library(tidyverse)\n",
    "library(ggdark)\n",
    "library(\"NatParksPalettes\")\n",
    "library(\"geomtextpath\")\n",
    "source(\"../scripts//analyze-timeseries.r\")"
   ]
  },
  {
   "cell_type": "code",
   "execution_count": 55,
   "id": "dff43345-70cb-4ff3-95a1-69e6c66a38ef",
   "metadata": {},
   "outputs": [
    {
     "data": {
      "text/html": [
       "<table class=\"dataframe\">\n",
       "<caption>A data.frame: 3 × 22</caption>\n",
       "<thead>\n",
       "\t<tr><th></th><th scope=col>X</th><th scope=col>N_inflow</th><th scope=col>N_reactors</th><th scope=col>ave_forward_rate</th><th scope=col>ave_outflow_rate</th><th scope=col>graph_type</th><th scope=col>mass</th><th scope=col>output_count</th><th scope=col>output_time</th><th scope=col>random_seed</th><th scope=col>...</th><th scope=col>sim_notes</th><th scope=col>sim_number</th><th scope=col>total_time</th><th scope=col>alpha</th><th scope=col>alpha.plus</th><th scope=col>alpha.minus</th><th scope=col>r2</th><th scope=col>max.AI</th><th scope=col>median.AI</th><th scope=col>weighted.mean.AI</th></tr>\n",
       "\t<tr><th></th><th scope=col>&lt;int&gt;</th><th scope=col>&lt;int&gt;</th><th scope=col>&lt;int&gt;</th><th scope=col>&lt;dbl&gt;</th><th scope=col>&lt;int&gt;</th><th scope=col>&lt;chr&gt;</th><th scope=col>&lt;int&gt;</th><th scope=col>&lt;int&gt;</th><th scope=col>&lt;int&gt;</th><th scope=col>&lt;dbl&gt;</th><th scope=col>...</th><th scope=col>&lt;chr&gt;</th><th scope=col>&lt;int&gt;</th><th scope=col>&lt;int&gt;</th><th scope=col>&lt;dbl&gt;</th><th scope=col>&lt;dbl&gt;</th><th scope=col>&lt;dbl&gt;</th><th scope=col>&lt;dbl&gt;</th><th scope=col>&lt;int&gt;</th><th scope=col>&lt;dbl&gt;</th><th scope=col>&lt;dbl&gt;</th></tr>\n",
       "</thead>\n",
       "<tbody>\n",
       "\t<tr><th scope=row>1</th><td>1</td><td>1</td><td>9</td><td>5e-07</td><td>1</td><td>lattice</td><td>1000</td><td>-1</td><td>1</td><td>1636141407</td><td>...</td><td>Lattice Parameter Sweep July 14 2022</td><td>10000</td><td>100</td><td>NA</td><td>NA</td><td>NA</td><td>NA</td><td>1</td><td>0.5</td><td>0.0007873810</td></tr>\n",
       "\t<tr><th scope=row>2</th><td>2</td><td>1</td><td>9</td><td>5e-07</td><td>2</td><td>lattice</td><td>1000</td><td>-1</td><td>1</td><td>3836141407</td><td>...</td><td>Lattice Parameter Sweep July 14 2022</td><td>10001</td><td>100</td><td>NA</td><td>NA</td><td>NA</td><td>NA</td><td>1</td><td>0.5</td><td>0.0007631074</td></tr>\n",
       "\t<tr><th scope=row>3</th><td>3</td><td>1</td><td>9</td><td>5e-07</td><td>5</td><td>lattice</td><td>1000</td><td>-1</td><td>1</td><td>1037141407</td><td>...</td><td>Lattice Parameter Sweep July 14 2022</td><td>10002</td><td>100</td><td>NA</td><td>NA</td><td>NA</td><td>NA</td><td>1</td><td>0.5</td><td>0.0006640729</td></tr>\n",
       "</tbody>\n",
       "</table>\n"
      ],
      "text/latex": [
       "A data.frame: 3 × 22\n",
       "\\begin{tabular}{r|lllllllllllllllllllll}\n",
       "  & X & N\\_inflow & N\\_reactors & ave\\_forward\\_rate & ave\\_outflow\\_rate & graph\\_type & mass & output\\_count & output\\_time & random\\_seed & ... & sim\\_notes & sim\\_number & total\\_time & alpha & alpha.plus & alpha.minus & r2 & max.AI & median.AI & weighted.mean.AI\\\\\n",
       "  & <int> & <int> & <int> & <dbl> & <int> & <chr> & <int> & <int> & <int> & <dbl> & ... & <chr> & <int> & <int> & <dbl> & <dbl> & <dbl> & <dbl> & <int> & <dbl> & <dbl>\\\\\n",
       "\\hline\n",
       "\t1 & 1 & 1 & 9 & 5e-07 & 1 & lattice & 1000 & -1 & 1 & 1636141407 & ... & Lattice Parameter Sweep July 14 2022 & 10000 & 100 & NA & NA & NA & NA & 1 & 0.5 & 0.0007873810\\\\\n",
       "\t2 & 2 & 1 & 9 & 5e-07 & 2 & lattice & 1000 & -1 & 1 & 3836141407 & ... & Lattice Parameter Sweep July 14 2022 & 10001 & 100 & NA & NA & NA & NA & 1 & 0.5 & 0.0007631074\\\\\n",
       "\t3 & 3 & 1 & 9 & 5e-07 & 5 & lattice & 1000 & -1 & 1 & 1037141407 & ... & Lattice Parameter Sweep July 14 2022 & 10002 & 100 & NA & NA & NA & NA & 1 & 0.5 & 0.0006640729\\\\\n",
       "\\end{tabular}\n"
      ],
      "text/markdown": [
       "\n",
       "A data.frame: 3 × 22\n",
       "\n",
       "| <!--/--> | X &lt;int&gt; | N_inflow &lt;int&gt; | N_reactors &lt;int&gt; | ave_forward_rate &lt;dbl&gt; | ave_outflow_rate &lt;int&gt; | graph_type &lt;chr&gt; | mass &lt;int&gt; | output_count &lt;int&gt; | output_time &lt;int&gt; | random_seed &lt;dbl&gt; | ... ... | sim_notes &lt;chr&gt; | sim_number &lt;int&gt; | total_time &lt;int&gt; | alpha &lt;dbl&gt; | alpha.plus &lt;dbl&gt; | alpha.minus &lt;dbl&gt; | r2 &lt;dbl&gt; | max.AI &lt;int&gt; | median.AI &lt;dbl&gt; | weighted.mean.AI &lt;dbl&gt; |\n",
       "|---|---|---|---|---|---|---|---|---|---|---|---|---|---|---|---|---|---|---|---|---|---|\n",
       "| 1 | 1 | 1 | 9 | 5e-07 | 1 | lattice | 1000 | -1 | 1 | 1636141407 | ... | Lattice Parameter Sweep July 14 2022 | 10000 | 100 | NA | NA | NA | NA | 1 | 0.5 | 0.0007873810 |\n",
       "| 2 | 2 | 1 | 9 | 5e-07 | 2 | lattice | 1000 | -1 | 1 | 3836141407 | ... | Lattice Parameter Sweep July 14 2022 | 10001 | 100 | NA | NA | NA | NA | 1 | 0.5 | 0.0007631074 |\n",
       "| 3 | 3 | 1 | 9 | 5e-07 | 5 | lattice | 1000 | -1 | 1 | 1037141407 | ... | Lattice Parameter Sweep July 14 2022 | 10002 | 100 | NA | NA | NA | NA | 1 | 0.5 | 0.0006640729 |\n",
       "\n"
      ],
      "text/plain": [
       "  X N_inflow N_reactors ave_forward_rate ave_outflow_rate graph_type mass\n",
       "1 1 1        9          5e-07            1                lattice    1000\n",
       "2 2 1        9          5e-07            2                lattice    1000\n",
       "3 3 1        9          5e-07            5                lattice    1000\n",
       "  output_count output_time random_seed ... sim_notes                           \n",
       "1 -1           1           1636141407  ... Lattice Parameter Sweep July 14 2022\n",
       "2 -1           1           3836141407  ... Lattice Parameter Sweep July 14 2022\n",
       "3 -1           1           1037141407  ... Lattice Parameter Sweep July 14 2022\n",
       "  sim_number total_time alpha alpha.plus alpha.minus r2 max.AI median.AI\n",
       "1 10000      100        NA    NA         NA          NA 1      0.5      \n",
       "2 10001      100        NA    NA         NA          NA 1      0.5      \n",
       "3 10002      100        NA    NA         NA          NA 1      0.5      \n",
       "  weighted.mean.AI\n",
       "1 0.0007873810    \n",
       "2 0.0007631074    \n",
       "3 0.0006640729    "
      ]
     },
     "metadata": {},
     "output_type": "display_data"
    }
   ],
   "source": [
    "all.runs <- read.csv(\"../data/2022_07_22_parameter_sweep_stats.csv\")\n",
    "head(all.runs,3)"
   ]
  },
  {
   "cell_type": "code",
   "execution_count": 112,
   "id": "4e5af4d7-d766-42fa-9a50-24f8ae60c372",
   "metadata": {},
   "outputs": [],
   "source": [
    "multi.reactor <- all.runs %>% filter(N_reactors == 9, \n",
    "                                      ave_forward_rate == 5e-5, \n",
    "                                      ave_outflow_rate==10, \n",
    "                                      graph_type == \"line\")\n",
    "sim_num = multi.reactor$sim_number"
   ]
  },
  {
   "cell_type": "code",
   "execution_count": 113,
   "id": "b589ae79-cfeb-4c6a-a6d9-be0dd553f3e6",
   "metadata": {},
   "outputs": [],
   "source": [
    "ts_data <- read.csv(paste0(sim_number_to_directory(sim_num),\"timeseries.csv\"))"
   ]
  },
  {
   "cell_type": "code",
   "execution_count": 114,
   "id": "966519cc-5b38-404b-8056-c91178aa2633",
   "metadata": {},
   "outputs": [],
   "source": [
    "ts_data <- ts_data %>% filter(value > 1)\n",
    "ts_data$AI <- assembly_index(ts_data$variable)"
   ]
  },
  {
   "cell_type": "code",
   "execution_count": 115,
   "id": "d10ed41d-111d-4c6b-827f-1adac4e53f83",
   "metadata": {},
   "outputs": [
    {
     "name": "stderr",
     "output_type": "stream",
     "text": [
      "\u001b[1m\u001b[22m`summarise()` has grouped output by 'reactor', 'time'. You can override using the `.groups` argument.\n"
     ]
    }
   ],
   "source": [
    "coarse_grainned_ts <- ts_data %>% \n",
    "                        group_by(reactor, time, AI) %>%\n",
    "                        summarise(total = sum(value))\n",
    "normed_ts <- coarse_grainned_ts %>% \n",
    "                group_by(reactor, time) %>%\n",
    "                mutate(normed_total = total/sum(total))"
   ]
  },
  {
   "cell_type": "code",
   "execution_count": 116,
   "id": "bfcc7f4a-6c1e-4cd4-a6d0-a092ee2e4bbb",
   "metadata": {},
   "outputs": [
    {
     "name": "stderr",
     "output_type": "stream",
     "text": [
      "\u001b[1m\u001b[22m`summarise()` has grouped output by 'reactor'. You can override using the `.groups` argument.\n"
     ]
    }
   ],
   "source": [
    "normed_ts <- normed_ts %>%\n",
    "                group_by(reactor, time) %>%\n",
    "                summarise(mean.AI = sum(normed_total*AI),\n",
    "                          var.AI = sum(sqrt( (normed_total*AI - sum(normed_total*AI))^2 )))"
   ]
  },
  {
   "cell_type": "code",
   "execution_count": 117,
   "id": "7769b87f-092b-472b-b6bb-f76f7e947a2b",
   "metadata": {},
   "outputs": [
    {
     "name": "stderr",
     "output_type": "stream",
     "text": [
      "`geom_smooth()` using formula 'y ~ x'\n",
      "\n"
     ]
    },
    {
     "data": {
      "image/png": "[encoded data removed]",
      "text/plain": [
       "plot without title"
      ]
     },
     "metadata": {
      "image/png": {
       "height": 420,
       "width": 420
      }
     },
     "output_type": "display_data"
    }
   ],
   "source": [
    "p <- ggplot(normed_ts %>% filter(reactor > 0, time > 25), \n",
    "       aes(x = mean.AI, \n",
    "           y = var.AI, \n",
    "           color = as.factor(reactor))) + \n",
    "        geom_point() + \n",
    "        facet_wrap(~reactor) + \n",
    "        geom_smooth(method = \"lm\", fullrange=TRUE) +\n",
    "        dark_theme_bw(base_size = 14) +\n",
    "        scale_color_manual(values=natparks.pals(\"Yellowstone\", n = 9)) +\n",
    "        labs(x = \"Mean\", y = \"Variance\", color = \"Reactor\") \n",
    "p\n",
    "# ggsave(\"../plots/220722-MeanVar-Reactors-Lattice.jpeg\", p, height = 243, width = 183, units = \"mm\")\n",
    "# ggsave(\"../plots/220722-MeanVar-Reactors-Lattice.svg\", p, height = 243, width = 183, units = \"mm\")\n"
   ]
  },
  {
   "cell_type": "markdown",
   "id": "af2f367a-3a2b-42df-bb69-80c6a75e1b04",
   "metadata": {},
   "source": [
    "# Warning! Doing some hacky notebook stuff below. Don't just run these cells and expect it to work.\n",
    "You need to switch the filter above between execution to actually get both graph types"
   ]
  },
  {
   "cell_type": "code",
   "execution_count": 111,
   "id": "a62fe6db-fc6e-4a2c-8259-00afeb0c4f8e",
   "metadata": {},
   "outputs": [],
   "source": [
    "lattice_norm_ts <- normed_ts\n",
    "lattice_norm_ts$graph_type = \"Lattice\""
   ]
  },
  {
   "cell_type": "code",
   "execution_count": 118,
   "id": "225b6f2a-8269-4d38-8e39-5ec3bb4af313",
   "metadata": {},
   "outputs": [],
   "source": [
    "line_norm_ts <- normed_ts\n",
    "line_norm_ts$graph_type = \"line\""
   ]
  },
  {
   "cell_type": "code",
   "execution_count": 119,
   "id": "16737d7d-d84f-4d1b-8de6-663c2d354466",
   "metadata": {},
   "outputs": [],
   "source": [
    "combined_norm_ts <- rbind(lattice_norm_ts, line_norm_ts)"
   ]
  },
  {
   "cell_type": "code",
   "execution_count": 130,
   "id": "22e04f02-a204-4ef8-ba25-92a309968c0a",
   "metadata": {},
   "outputs": [
    {
     "name": "stderr",
     "output_type": "stream",
     "text": [
      "`geom_smooth()` using formula 'y ~ x'\n",
      "\n",
      "`geom_smooth()` using formula 'y ~ x'\n",
      "\n",
      "`geom_smooth()` using formula 'y ~ x'\n",
      "\n"
     ]
    },
    {
     "data": {
      "image/png": "[encoded data removed]",
      "text/plain": [
       "plot without title"
      ]
     },
     "metadata": {
      "image/png": {
       "height": 420,
       "width": 420
      }
     },
     "output_type": "display_data"
    }
   ],
   "source": [
    "p <- ggplot(combined_norm_ts %>% filter(reactor > 0, time > 25), \n",
    "       aes(x = mean.AI, \n",
    "           y = var.AI, \n",
    "           color = as.factor(reactor))) + \n",
    "        geom_point() + \n",
    "        facet_grid(vars(reactor), vars(graph_type)) + \n",
    "        geom_smooth(method = \"lm\", fullrange=TRUE) +\n",
    "        dark_theme_bw(base_size = 14) +\n",
    "        guides(color = \"none\") + \n",
    "        scale_color_manual(values=natparks.pals(\"Yellowstone\", n = 9)) +\n",
    "        labs(x = \"Mean\", y = \"Variance\", color = \"Reactor\") \n",
    "p\n",
    "ggsave(\"../plots/220722-MeanVar-Reactors-Compare.jpeg\", p, height = 243, width = 183, units = \"mm\")\n",
    "ggsave(\"../plots/220722-MeanVar-Reactors-Compare.svg\", p, height = 243, width = 183, units = \"mm\")\n"
   ]
  },
  {
   "cell_type": "code",
   "execution_count": null,
   "id": "93142770-ea42-4790-82b9-b9fcf0d8969b",
   "metadata": {},
   "outputs": [],
   "source": []
  }
 ],
 "metadata": {
  "kernelspec": {
   "display_name": "R",
   "language": "R",
   "name": "ir"
  },
  "language_info": {
   "codemirror_mode": "r",
   "file_extension": ".r",
   "mimetype": "text/x-r-source",
   "name": "R",
   "pygments_lexer": "r",
   "version": "4.1.1"
  }
 },
 "nbformat": 4,
 "nbformat_minor": 5
}
