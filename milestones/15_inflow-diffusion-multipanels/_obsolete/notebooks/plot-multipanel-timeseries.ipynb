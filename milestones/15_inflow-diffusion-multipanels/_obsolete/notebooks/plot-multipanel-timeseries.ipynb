{
 "cells": [
  {
   "cell_type": "code",
   "execution_count": 3,
   "metadata": {
    "vscode": {
     "languageId": "r"
    }
   },
   "outputs": [],
   "source": [
    "options(conflicts.policy = list(warn.conflicts = FALSE))\n",
    "\n",
    "library(dplyr)\n",
    "library(ggplot2)\n",
    "library(latex2exp)\n",
    "library(gridExtra)"
   ]
  },
  {
   "cell_type": "code",
   "execution_count": 5,
   "metadata": {
    "vscode": {
     "languageId": "r"
    }
   },
   "outputs": [],
   "source": [
    "data <- read.csv(\"../../data/timeseries.csv\")\n",
    "params <- read.csv(\"../../data/params.csv\")"
   ]
  },
  {
   "cell_type": "code",
   "execution_count": 6,
   "metadata": {
    "vscode": {
     "languageId": "r"
    }
   },
   "outputs": [],
   "source": [
    "nrows <- 10\n",
    "nsims <- nrows^2\n",
    "\n",
    "selected_sims <- 1:nsims"
   ]
  },
  {
   "cell_type": "code",
   "execution_count": null,
   "metadata": {
    "vscode": {
     "languageId": "r"
    }
   },
   "outputs": [],
   "source": [
    "# Filter the dataset based on the selected simulations and integer range\n",
    "filtered_data <- data %>%\n",
    "    filter(sim_number %in% selected_sims, integer %in% 1:10)"
   ]
  },
  {
   "cell_type": "code",
   "execution_count": 8,
   "metadata": {
    "vscode": {
     "languageId": "r"
    }
   },
   "outputs": [],
   "source": [
    "# Aggregate data: sum frequency over `chemostat_id`\n",
    "summarised_data <- filtered_data %>%\n",
    "  group_by(sim_number, time, integer) %>%\n",
    "  summarise(frequency = sum(frequency), .groups = \"drop\")"
   ]
  },
  {
   "cell_type": "code",
   "execution_count": 10,
   "metadata": {
    "vscode": {
     "languageId": "r"
    }
   },
   "outputs": [],
   "source": [
    "# Create the plot using facet_wrap\n",
    "p <- ggplot(summarised_data, aes(x = time, y = frequency, color = factor(integer))) +\n",
    "    geom_line(alpha = 0.7) +\n",
    "    \n",
    "    # Adjust title and axis titles\n",
    "    labs(title = \"Time Series of Simulations\", color = \"Integer\") +\n",
    "    xlab(\"Time\") +\n",
    "    ylab(\"Frequency\") +\n",
    "    \n",
    "    # Remove the legend, center the title\n",
    "    theme_minimal() +\n",
    "    theme(plot.title = element_text(hjust = 0.5), legend.position = \"none\") +\n",
    "    \n",
    "    # Use facet_wrap to create a multi-panel plot\n",
    "    facet_wrap(~ sim_number, scales = \"free_y\", labeller = labeller(sim_number = function(x) {\n",
    "        sim_params <- params %>% filter(sim_number == x)\n",
    "        sprintf(\"I=%.2e \\n k_d=%.2e\", sim_params$inflow_mols, sim_params$outflow_rate)\n",
    "    })) +\n",
    "    \n",
    "    # Annotate each panel with the sim_number\n",
    "    geom_text(data = summarised_data %>% distinct(sim_number), \n",
    "              aes(x = mean(range(summarised_data$time)), y = mean(range(summarised_data$frequency)), label = sim_number), \n",
    "              color = \"grey\", size = 10, hjust = -0.5, vjust = 1.5)\n",
    "\n",
    "# Save the figure\n",
    "ggsave(\"../../figs/multipanel-timeseries.pdf\", plot = p, width = 20, height = 20)\n"
   ]
  }
 ],
 "metadata": {
  "kernelspec": {
   "display_name": "R",
   "language": "R",
   "name": "ir"
  },
  "language_info": {
   "codemirror_mode": "r",
   "file_extension": ".r",
   "mimetype": "text/x-r-source",
   "name": "R",
   "pygments_lexer": "r",
   "version": "4.4.2"
  }
 },
 "nbformat": 4,
 "nbformat_minor": 2
}
