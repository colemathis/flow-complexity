{
 "cells": [
  {
   "cell_type": "markdown",
   "metadata": {},
   "source": [
    "# Load the data"
   ]
  },
  {
   "cell_type": "code",
   "execution_count": null,
   "metadata": {},
   "outputs": [],
   "source": [
    "using DrWatson\n",
    "@quickactivate :FlowComplexity\n",
    "\n",
    "using JLD2\n",
    "\n",
    "fn = joinpath(\"./data\", \"data.jld2\")\n",
    "@load fn sim_array"
   ]
  },
  {
   "cell_type": "markdown",
   "metadata": {},
   "source": [
    "# Compute population statistics"
   ]
  },
  {
   "cell_type": "code",
   "execution_count": null,
   "metadata": {},
   "outputs": [],
   "source": [
    "using DataFrames, Statistics\n",
    "\n",
    "# get the length of the array\n",
    "nsim = length(sim_array)\n",
    "\n",
    "# get the first simulation of the array\n",
    "first_sim = sim_array[1]\n",
    "\n",
    "# define the array that will hold our population time series\n",
    "max_t = Int(first_sim.total_time)\n",
    "nspecies = 10\n",
    "pop_array = zeros(Int, nsim, max_t, nspecies)\n",
    "\n",
    "for i in 1:nsim\n",
    "    sim = sim_array[i]\n",
    "    time_series_df = FlowComplexity.convert_timeseries_to_tidy_df(sim.time_evolution)\n",
    "        for j in 1:max_t\n",
    "            for k in 1:nspecies\n",
    "                filtered_time_series_df = filter(row -> row[:time] == j && row[:variable] == string(k), time_series_df) # fucking variable encoded as string\n",
    "                pop_array[i, j, k] = filtered_time_series_df[1, :value]\n",
    "            end\n",
    "        end\n",
    "end\n",
    "\n",
    "# calculate the averages\n",
    "pop_avg_array = mean(pop_array, dims=1)\n",
    "pop_avg_array = dropdims(pop_avg_array, dims=1)\n",
    "\n",
    "# calculate the std\n",
    "pop_std_array = std(pop_array, dims=1)\n",
    "pop_std_array = dropdims(pop_std_array, dims=1)"
   ]
  },
  {
   "cell_type": "markdown",
   "metadata": {},
   "source": [
    "# Plot the figure"
   ]
  },
  {
   "cell_type": "code",
   "execution_count": null,
   "metadata": {},
   "outputs": [],
   "source": [
    "using Plots\n",
    "using LaTeXStrings\n",
    "\n",
    "p = plot(title=\"Forward rate \" * L\"f=10^{-1}\", xlabel=\"Time\", ylabel=\"Count\", yaxis=:log10, legendtitle=\"Integers\", legend=:outerright)\n",
    "\n",
    "palette = cgrad(:viridis, nspecies)\n",
    "\n",
    "for i in 1:nspecies\n",
    "    pop_avg = pop_avg_array[:, i]\n",
    "    pop_std = pop_std_array[:, i]\n",
    "    plot!(p, 1:max_t, pop_avg, lw=2, ribbon=pop_std, fillalpha=0.2, label=\"$i\")\n",
    "end\n",
    "\n",
    "annotate!(75,700, text(\"Shading represents STD\", :black, 10))\n",
    "\n",
    "display(p)\n",
    "\n",
    "savefig(\"./figs/pop_f=1e-1.pdf\")"
   ]
  }
 ],
 "metadata": {
  "kernelspec": {
   "display_name": "Julia 1.10.0",
   "language": "julia",
   "name": "julia-1.10"
  },
  "language_info": {
   "file_extension": ".jl",
   "mimetype": "application/julia",
   "name": "julia",
   "version": "1.10.0"
  }
 },
 "nbformat": 4,
 "nbformat_minor": 2
}
