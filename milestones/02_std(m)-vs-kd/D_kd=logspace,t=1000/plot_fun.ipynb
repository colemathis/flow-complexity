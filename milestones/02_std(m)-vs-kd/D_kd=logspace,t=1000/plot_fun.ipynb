{
 "cells": [
  {
   "cell_type": "markdown",
   "metadata": {},
   "source": [
    "# Load the data"
   ]
  },
  {
   "cell_type": "code",
   "execution_count": 130,
   "metadata": {},
   "outputs": [
    {
     "data": {
      "text/plain": [
       "1-element Vector{Symbol}:\n",
       " :sim_array"
      ]
     },
     "metadata": {},
     "output_type": "display_data"
    }
   ],
   "source": [
    "# Import necessary packages\n",
    "using DrWatson\n",
    "using JLD2\n",
    "\n",
    "# Activate the project environment\n",
    "@quickactivate :FlowComplexity\n",
    "\n",
    "# Define the file path\n",
    "file_path = joinpath(\"./data\", \"data.jld2\")\n",
    "\n",
    "# Load the data from the specified file\n",
    "@load file_path sim_array"
   ]
  },
  {
   "cell_type": "markdown",
   "metadata": {},
   "source": [
    "# Show time series for all chemostats of simulation no. X"
   ]
  },
  {
   "cell_type": "code",
   "execution_count": 131,
   "metadata": {},
   "outputs": [
    {
     "data": {
      "text/plain": [
       "9×1001×137188 Array{Int64, 3}:\n",
       "[:, :, 1] =\n",
       " 1001  1001  1000  1000  1000  1000  …  1000  1000  1000  1001  1001  1000\n",
       "    4     4     4     4     4     4        4     4     0     4     4     4\n",
       "    0     0     0     0     0     0        0     0     0     0     0     0\n",
       "    0     0     0     0     0     0        0     0     0     0     0     0\n",
       "    0     0     0     0     0     0        0     0     0     0     0     0\n",
       "    0     0     0     0     0     0  …     0     0     0     0     0     0\n",
       "    0     0     0     0     0     0        0     0     0     0     0     0\n",
       "    0     0     0     0     0     0        0     0     0     0     0     0\n",
       "    0     0     0     0     0     0        0     0     0     0     0     0\n",
       "\n",
       "[:, :, 2] =\n",
       " 184  174  166  157  188  195  184  207  …  171  203  176  180  189  165  206\n",
       "   0    0    0    0    0    0    0    0       0    0    0    0    0    0    0\n",
       "   0    0    0    0    0    0    0    0       0    0    0    0    0    0    0\n",
       "   0    0    0    0    0    0    0    0       0    0    0    0    0    0    0\n",
       "   0    0    0    0    0    0    0    0       0    0    0    0    0    0    0\n",
       "   0    0    0    0    0    0    0    0  …    0    0    0    0    0    0    0\n",
       "   0    0    0    0    0    0    0    0       0    0    0    0    0    0    0\n",
       "   0    0    0    0    0    0    0    0       0    0    0    0    0    0    0\n",
       "   0    0    0    0    0    0    0    0       0    0    0    0    0    0    0\n",
       "\n",
       "[:, :, 3] =\n",
       " 81  68  85  57  80  74  73  88  79  …  61  74  68  67  80  105  65  83  65\n",
       "  0   0   0   0   0   0   0   0   0      0   0   0   0   0    0   0   0   0\n",
       "  0   0   0   0   0   0   0   0   0      0   0   0   0   0    0   0   0   0\n",
       "  0   0   0   0   0   0   0   0   0      0   0   0   0   0    0   0   0   0\n",
       "  0   0   0   0   0   0   0   0   0      0   0   0   0   0    0   0   0   0\n",
       "  0   0   0   0   0   0   0   0   0  …   0   0   0   0   0    0   0   0   0\n",
       "  0   0   0   0   0   0   0   0   0      0   0   0   0   0    0   0   0   0\n",
       "  0   0   0   0   0   0   0   0   0      0   0   0   0   0    0   0   0   0\n",
       "  0   0   0   0   0   0   0   0   0      0   0   0   0   0    0   0   0   0\n",
       "\n",
       ";;; … \n",
       "\n",
       "[:, :, 137186] =\n",
       " 0  0  0  0  0  0  0  0  0  0  0  0  0  …  0  0  0  0  0  0  0  0  0  0  0  0\n",
       " 0  0  0  0  0  0  0  0  0  0  0  0  0     0  0  0  0  0  0  0  0  0  0  0  0\n",
       " 0  0  0  0  0  0  0  0  0  0  0  0  0     0  0  0  0  0  0  0  0  0  0  0  0\n",
       " 0  0  0  0  0  0  0  0  0  0  0  0  0     0  0  0  0  0  0  0  0  0  0  0  0\n",
       " 0  0  0  0  0  0  0  0  0  0  0  0  0     0  0  0  0  0  0  0  0  0  0  0  0\n",
       " 0  0  0  0  0  0  0  0  0  0  0  0  0  …  0  0  0  0  0  0  0  0  0  0  0  0\n",
       " 0  0  0  0  0  0  0  0  0  0  0  0  0     0  0  0  0  0  0  0  0  0  0  0  0\n",
       " 0  0  0  0  0  0  0  0  0  0  0  0  0     0  0  0  0  0  0  0  0  0  0  0  0\n",
       " 0  0  0  0  0  0  0  0  0  0  0  0  0     0  0  0  0  0  0  0  0  0  0  0  0\n",
       "\n",
       "[:, :, 137187] =\n",
       " 0  0  0  0  0  0  0  0  0  0  0  0  0  …  0  0  0  0  0  0  0  0  0  0  0  0\n",
       " 0  0  0  0  0  0  0  0  0  0  0  0  0     0  0  0  0  0  0  0  0  0  0  0  0\n",
       " 0  0  0  0  0  0  0  0  0  0  0  0  0     0  0  0  0  0  0  0  0  0  0  0  0\n",
       " 0  0  0  0  0  0  0  0  0  0  0  0  0     0  0  0  0  0  0  0  0  0  0  0  0\n",
       " 0  0  0  0  0  0  0  0  0  0  0  0  0     0  0  0  0  0  0  0  0  0  0  0  0\n",
       " 0  0  0  0  0  0  0  0  0  0  0  0  0  …  0  0  0  0  0  0  0  0  0  0  0  0\n",
       " 0  0  0  0  0  0  0  0  0  0  0  0  0     0  0  0  0  0  0  0  0  0  0  0  0\n",
       " 0  0  0  0  0  0  0  0  0  0  0  0  0     0  0  0  0  0  0  0  0  0  0  0  0\n",
       " 0  0  0  0  0  0  0  0  0  0  0  0  0     0  0  0  0  0  0  0  0  0  0  0  0\n",
       "\n",
       "[:, :, 137188] =\n",
       " 0  0  0  0  0  0  0  0  0  0  0  0  0  …  0  0  0  0  1  0  0  0  0  0  0  0\n",
       " 0  0  0  0  0  0  0  0  0  0  0  0  0     0  0  0  0  0  0  0  0  0  0  0  0\n",
       " 0  0  0  0  0  0  0  0  0  0  0  0  0     0  0  0  0  0  0  0  0  0  0  0  0\n",
       " 0  0  0  0  0  0  0  0  0  0  0  0  0     0  0  0  0  0  0  0  0  0  0  0  0\n",
       " 0  0  0  0  0  0  0  0  0  0  0  0  0     0  0  0  0  0  0  0  0  0  0  0  0\n",
       " 0  0  0  0  0  0  0  0  0  0  0  0  0  …  0  0  0  0  0  0  0  0  0  0  0  0\n",
       " 0  0  0  0  0  0  0  0  0  0  0  0  0     0  0  0  0  0  0  0  0  0  0  0  0\n",
       " 0  0  0  0  0  0  0  0  0  0  0  0  0     0  0  0  0  0  0  0  0  0  0  0  0\n",
       " 0  0  0  0  0  0  0  0  0  0  0  0  0     0  0  0  0  0  0  0  0  0  0  0  0"
      ]
     },
     "metadata": {},
     "output_type": "display_data"
    }
   ],
   "source": [
    "using StatsBase\n",
    "\n",
    "function get_timeseries(sim)\n",
    "    # sim = sim_array[1]\n",
    "    # get the number of chemostats\n",
    "    nchem = length(sim.time_evolution)\n",
    "    # get the time steps\n",
    "    t_arr = collect(keys(sim.time_evolution[1][:complete_timeseries]))\n",
    "    nt = length(t_arr)\n",
    "    # get the maximum variable\n",
    "    vals = Iterators.flatten(values(sim.time_evolution[1][:complete_timeseries]))\n",
    "    # nv = length(vals)\n",
    "    maxvals = maximum(vals)\n",
    "\n",
    "    # populate an array with the values\n",
    "    ts = zeros(Int, nchem, nt, maxvals)\n",
    "    for i in 1:nchem\n",
    "        for j in 1:nt\n",
    "            tt = t_arr[j]\n",
    "            cm = countmap(sim.time_evolution[i][:complete_timeseries][tt])\n",
    "            v = collect(keys(cm))\n",
    "            nv = length(cm)\n",
    "            for k in 1:nv\n",
    "                kk = v[k]\n",
    "                ts[i, j, kk] = cm[kk]\n",
    "            end\n",
    "        end\n",
    "    end\n",
    "    return t_arr, ts\n",
    "end\n",
    "\n",
    "t_arr, ts = get_timeseries(sim_array[1])\n",
    "\n",
    "# display(t_arr)\n",
    "display(ts) # chem t var\n"
   ]
  },
  {
   "cell_type": "markdown",
   "metadata": {},
   "source": [
    "# old version"
   ]
  },
  {
   "cell_type": "code",
   "execution_count": null,
   "metadata": {},
   "outputs": [],
   "source": [
    "using DataFrames, Plots, FileIO\n",
    "\n",
    "sim_no = 2\n",
    "sim = sim_array[sim_no]\n",
    "nchem = 9\n",
    "\n",
    "# Define the array that will hold our population time series\n",
    "max_t = Int(sim.total_time) + 1 # our sim goes to 0...100 so index has to go 1...101\n",
    "nspecies = 10\n",
    "pop_array = zeros(Int, nchem, max_t, nspecies)\n",
    "\n",
    "# Convert the time series to a DataFrame\n",
    "time_series_df = FlowComplexity.convert_timeseries_to_tidy_df(sim.time_evolution)\n",
    "\n",
    "# Populate the population array using efficient DataFrame operations\n",
    "for row in eachrow(time_series_df)\n",
    "    \n",
    "    i = Int(row[:reactor])\n",
    "    j = round(Int, row[:time]) + 1 # indexing starts at 1\n",
    "    k = parse(Int, row[:variable]) # to account for absent data (i.e., zero)\n",
    "    if k > nspecies\n",
    "        continue\n",
    "    end\n",
    "    # println(row)\n",
    "    # println(\"i=$i j=$j k=$k\")\n",
    "    pop_array[i, j, k] = row[:value]\n",
    "end\n",
    "\n",
    "# Create a 3x3 grid plot\n",
    "plot_grid = plot(layout = (3, 3))\n",
    "\n",
    "# Loop over each subplot\n",
    "for i in 1:nchem\n",
    "    # Extract the time series data for the i-th plot\n",
    "    time_series_data = pop_array[i, :, :]\n",
    "    \n",
    "    # Create a subplot for each species in the time series\n",
    "    p = plot()\n",
    "    for j in 1:nspecies\n",
    "        plot!(plot_grid[i], 1:max_t, time_series_data[:, j], label = \"Species $j\", legend = :none)\n",
    "    end\n",
    "end\n",
    "\n",
    "display(plot_grid)"
   ]
  },
  {
   "cell_type": "markdown",
   "metadata": {},
   "source": [
    "# new version"
   ]
  },
  {
   "cell_type": "code",
   "execution_count": 125,
   "metadata": {},
   "outputs": [
    {
     "data": {
      "text/plain": [
       "Dict{Any, Any} with 1001 entries:\n",
       "  719.0 => [1, 1, 2499, 3, 2, 1, 1758, 1, 8987, 1  …  1, 1, 7159, 763, 307, 713…\n",
       "  858.0 => [323, 1, 1534, 579, 11898, 1, 3, 1, 277, 30093  …  9233, 150, 1, 326…\n",
       "  699.0 => [10, 1676, 129, 15, 2214, 1, 1955, 1, 4032, 868  …  1, 22, 27, 3749,…\n",
       "  831.0 => [10191, 16, 259, 1, 83, 12529, 13143, 2, 11, 1  …  82, 46, 1, 264, 3…\n",
       "  983.0 => [3, 2, 1, 1, 1, 199, 1, 28, 1, 53  …  1, 1, 2, 5, 762, 1, 192, 1, 94…\n",
       "  673.0 => [1, 6452, 3, 16, 21, 2, 1, 94, 37, 2409  …  227, 1522, 59, 71, 481, …\n",
       "  319.0 => [1, 1, 3, 367, 1, 141, 1, 1, 1759, 1  …  1, 1, 698, 1, 3, 584, 2, 1,…\n",
       "  73.0  => [279, 1, 577, 1, 669, 2, 123, 1, 8, 1  …  512, 185, 358, 490, 28, 64…\n",
       "  251.0 => [1, 1, 2, 1, 1, 171, 1, 2, 469, 1241  …  1792, 1, 1425, 1, 98, 1, 1,…\n",
       "  687.0 => [267, 1, 1, 334, 2, 3, 896, 701, 135, 2766  …  240, 1, 1, 114, 374, …\n",
       "  115.0 => [1, 70, 53, 48, 873, 1, 25, 1, 2, 1  …  1, 23, 1, 1, 999, 43, 10, 1,…\n",
       "  112.0 => [1, 309, 1, 1052, 4, 94, 2, 1, 2, 268  …  1, 1166, 1, 66, 1, 1, 612,…\n",
       "  185.0 => [4, 5, 155, 2765, 688, 24, 620, 1, 3, 1  …  75, 692, 1259, 9, 2, 2, …\n",
       "  823.0 => [8907, 1, 1, 1409, 1, 1, 3, 1, 1, 1  …  87, 1268, 1, 1, 330, 4, 1, 4…\n",
       "  420.0 => [1, 1, 367, 2708, 6, 1, 8, 3, 1, 1  …  2299, 168, 4216, 3, 1, 99, 2,…\n",
       "  525.0 => [2, 317, 1, 4749, 1, 503, 9457, 1, 69, 1  …  1, 799, 1, 1, 1, 6, 2, …\n",
       "  365.0 => [1, 19, 87, 1, 1, 1, 3, 1249, 840, 112  …  975, 101, 1, 68, 180, 1, …\n",
       "  584.0 => [1, 3, 1, 4, 2, 2, 1, 1, 122, 2  …  2, 8, 25, 39, 1, 301, 136, 211, …\n",
       "  638.0 => [1, 2, 480, 1, 17161, 1, 1, 2, 1, 1  …  28, 3218, 5, 275, 1, 1, 1, 1…\n",
       "  ⋮     => ⋮"
      ]
     },
     "metadata": {},
     "output_type": "display_data"
    }
   ],
   "source": [
    "sim_array[94].time_evolution[1][:complete_timeseries]"
   ]
  },
  {
   "cell_type": "code",
   "execution_count": 132,
   "metadata": {},
   "outputs": [
    {
     "ename": "BoundsError",
     "evalue": "BoundsError: attempt to access 9×1001×14686 Array{Int64, 3} at index [2, 107, 17765]",
     "output_type": "error",
     "traceback": [
      "BoundsError: attempt to access 9×1001×14686 Array{Int64, 3} at index [2, 107, 17765]\n",
      "\n",
      "Stacktrace:\n",
      " [1] setindex!(A::Array{Int64, 3}, x::Int64, i1::Int64, i2::Int64, I::Int64)\n",
      "   @ Base ./array.jl:1024\n",
      " [2] get_timeseries(sim::FlowComplexity.Simulation)\n",
      "   @ Main ~/Documents/academic/3-research/projects/2023 spatial-topology/flow-complexity/milestones/02_std(m)-vs-kd/D_kd=logspace,t=1000/jl_notebook_cell_df34fa98e69747e1a8f8a730347b8e2f_X20sZmlsZQ==.jl:25\n",
      " [3] top-level scope\n",
      "   @ ~/Documents/academic/3-research/projects/2023 spatial-topology/flow-complexity/milestones/02_std(m)-vs-kd/D_kd=logspace,t=1000/jl_notebook_cell_df34fa98e69747e1a8f8a730347b8e2f_X23sZmlsZQ==.jl:14"
     ]
    }
   ],
   "source": [
    "using DataFrames, Plots, FileIO\n",
    "\n",
    "sim_no = 80\n",
    "sim = sim_array[sim_no]\n",
    "nchem = 9\n",
    "\n",
    "# Define the array that will hold our population time series\n",
    "max_t = Int(sim.total_time) + 1 # our sim goes to 0...100 so index has to go 1...101\n",
    "nspecies = 10\n",
    "pop_array = zeros(Int, nchem, max_t, nspecies)\n",
    "\n",
    "# Convert the time series to a DataFrame\n",
    "# time_series_df = FlowComplexity.convert_timeseries_to_tidy_df(sim.time_evolution)\n",
    "t_arr, ts = get_timeseries(sim)\n",
    "# ts[chem, t, var]\n",
    "\n",
    "# # Populate the population array using efficient DataFrame operations\n",
    "# for row in eachrow(time_series_df)\n",
    "    \n",
    "#     i = Int(row[:reactor])\n",
    "#     j = round(Int, row[:time]) + 1 # indexing starts at 1\n",
    "#     k = parse(Int, row[:variable]) # to account for absent data (i.e., zero)\n",
    "#     if k > nspecies\n",
    "#         continue\n",
    "#     end\n",
    "#     # println(row)\n",
    "#     # println(\"i=$i j=$j k=$k\")\n",
    "#     pop_array[i, j, k] = row[:value]\n",
    "# end\n",
    "\n",
    "# Create a 3x3 grid plot\n",
    "plot_grid = plot(size=(800,800), layout = (3, 3))\n",
    "\n",
    "# Loop over each subplot\n",
    "for i in 1:nchem\n",
    "    # Extract the time series data for the i-th plot\n",
    "    # time_series_data = pop_array[i, :, :]\n",
    "    \n",
    "    # Create a subplot for each species in the time series\n",
    "    p = plot()\n",
    "    for j in 1:nspecies\n",
    "        y = ts[i,:,j]\n",
    "        plot!(plot_grid[i], 1:max_t, y, ylim=(0, 1000), label = \"Species $j\", legend = :none)\n",
    "    end\n",
    "end\n",
    "\n",
    "display(plot_grid)"
   ]
  },
  {
   "cell_type": "code",
   "execution_count": 81,
   "metadata": {},
   "outputs": [
    {
     "data": {
      "text/plain": [
       "0"
      ]
     },
     "metadata": {},
     "output_type": "display_data"
    }
   ],
   "source": [
    "ts[2,2,2]"
   ]
  },
  {
   "cell_type": "markdown",
   "metadata": {},
   "source": [
    "# Plot the Std(M) vs $k_d$ \n",
    "\n",
    "## (i.e., the std of monomers vs the outflow)"
   ]
  },
  {
   "cell_type": "code",
   "execution_count": 5,
   "metadata": {},
   "outputs": [],
   "source": [
    "using DataFrames, Plots, FileIO, Statistics\n",
    "\n",
    "first_sim = sim_array[1]\n",
    "nsims = 100\n",
    "nchem = 9\n",
    "nspecies = 10\n",
    "t = 100\n",
    "\n",
    "# Define the array that will hold our data\n",
    "pops = zeros(Float64, nsims, nchem, nspecies)\n",
    "\n",
    "# Loop over all the simulations\n",
    "for i in 1:100\n",
    "    sim = sim_array[i]\n",
    "    df = FlowComplexity.convert_timeseries_to_tidy_df(sim.time_evolution)\n",
    "    df = filter(row -> row[:time] == t, df)\n",
    "\n",
    "    for j in 1:nchem\n",
    "        df_reactor = filter(row -> row[:reactor] == j, df)\n",
    "\n",
    "        for k in 1:nspecies\n",
    "            df_reactor_species = filter(row -> row[:variable] == string(k), df_reactor)\n",
    "            if nrow(df_reactor_species) > 0\n",
    "                pops[i, j, k] = df_reactor_species[1, :value]      \n",
    "            end\n",
    "        end\n",
    "    end\n",
    "end"
   ]
  },
  {
   "cell_type": "code",
   "execution_count": null,
   "metadata": {},
   "outputs": [],
   "source": [
    "display(pops[2,:,:])"
   ]
  },
  {
   "cell_type": "code",
   "execution_count": null,
   "metadata": {},
   "outputs": [],
   "source": [
    "stds = zeros(Float64, nsims, nspecies)\n",
    "\n",
    "for i in 1:100\n",
    "    for j in 1:nspecies\n",
    "        stds[i, j] = std(pops[i, :, j])\n",
    "        # stds = dropdims(stds, dims=2)\n",
    "    end\n",
    "end\n",
    "\n",
    "display(stds)"
   ]
  },
  {
   "cell_type": "code",
   "execution_count": null,
   "metadata": {},
   "outputs": [],
   "source": [
    "p = plot()\n",
    "\n",
    "for i in 1:1\n",
    "    plot!(p, 1:100, stds[:, i], legend= :none)\n",
    "end\n",
    "\n",
    "display(p)"
   ]
  },
  {
   "cell_type": "code",
   "execution_count": null,
   "metadata": {},
   "outputs": [],
   "source": [
    "display(stds)"
   ]
  },
  {
   "cell_type": "code",
   "execution_count": null,
   "metadata": {},
   "outputs": [],
   "source": [
    "std([1000,10,20,50,1,0,0,0,0])"
   ]
  },
  {
   "cell_type": "code",
   "execution_count": null,
   "metadata": {},
   "outputs": [],
   "source": [
    "mu = zeros(Float64, nsims, nspecies)\n",
    "\n",
    "for i in 1:100\n",
    "    for j in 1:nspecies\n",
    "        mu[i, j] = mean(pops[i, :, j])\n",
    "        # stds = dropdims(stds, dims=2)\n",
    "    end\n",
    "end\n",
    "\n",
    "display(mu)"
   ]
  },
  {
   "cell_type": "code",
   "execution_count": null,
   "metadata": {},
   "outputs": [],
   "source": [
    "p = plot()\n",
    "\n",
    "for i in 1:1\n",
    "    plot!(p, 1:100, mu[:, i], legend= :none)\n",
    "end\n",
    "\n",
    "display(p)"
   ]
  }
 ],
 "metadata": {
  "kernelspec": {
   "display_name": "Julia 1.10.0",
   "language": "julia",
   "name": "julia-1.10"
  },
  "language_info": {
   "file_extension": ".jl",
   "mimetype": "application/julia",
   "name": "julia",
   "version": "1.10.0"
  }
 },
 "nbformat": 4,
 "nbformat_minor": 2
}
