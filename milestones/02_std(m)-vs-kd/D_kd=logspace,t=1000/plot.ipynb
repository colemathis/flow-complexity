{
 "cells": [
  {
   "cell_type": "markdown",
   "metadata": {},
   "source": [
    "# Load the data"
   ]
  },
  {
   "cell_type": "code",
   "execution_count": 133,
   "metadata": {},
   "outputs": [
    {
     "data": {
      "text/plain": [
       "1-element Vector{Symbol}:\n",
       " :sim_array"
      ]
     },
     "metadata": {},
     "output_type": "display_data"
    }
   ],
   "source": [
    "# Import necessary packages\n",
    "using DrWatson\n",
    "using JLD2\n",
    "\n",
    "# Activate the project environment\n",
    "@quickactivate :FlowComplexity\n",
    "\n",
    "# Define the file path\n",
    "file_path = joinpath(\"./data\", \"data.jld2\")\n",
    "\n",
    "# Load the data from the specified file\n",
    "@load file_path sim_array"
   ]
  },
  {
   "cell_type": "markdown",
   "metadata": {},
   "source": [
    "# Show time series for all chemostats of simulation no. X"
   ]
  },
  {
   "cell_type": "code",
   "execution_count": null,
   "metadata": {},
   "outputs": [],
   "source": [
    "using DataFrames\n",
    "\n",
    "sim_no = 90\n",
    "sim = sim_array[sim_no]\n",
    "nchem = 9\n",
    "\n",
    "# Define the array that will hold our population time series\n",
    "max_t = Int(sim.total_time)\n",
    "nspecies = 10\n",
    "pop_array = zeros(Int, nchem, max_t, nspecies)\n",
    "\n",
    "# Populate the population array\n",
    "time_series_df = FlowComplexity.convert_timeseries_to_tidy_df(sim.time_evolution)\n",
    "for i in 1:nchem\n",
    "    for j in 1:max_t\n",
    "        for k in 1:nspecies\n",
    "            filtered_time_series_df = filter(row -> row[:reactor] == i && row[:time] == j && row[:variable] == string(k), time_series_df)\n",
    "            if nrow(filtered_time_series_df) > 0\n",
    "                pop_array[i, j, k] = filtered_time_series_df[1, :value]\n",
    "            end\n",
    "        end\n",
    "    end\n",
    "end\n",
    "\n",
    "using Plots, FileIO\n",
    "\n",
    "# Create a 3x3 grid plot\n",
    "plot_grid = plot(layout = (3, 3))\n",
    "\n",
    "# Loop over each subplot\n",
    "for i in 1:nchem\n",
    "    # Extract the time series data for the i-th plot\n",
    "    time_series_data = pop_array[i, :, :]\n",
    "    \n",
    "    # Create a subplot for each species in the time series\n",
    "    p = plot()\n",
    "    for j in 1:nspecies\n",
    "        plot!(plot_grid[i], 1:max_t, time_series_data[:, j], label = \"Species $j\", legend = :none)\n",
    "    end\n",
    "end\n",
    "\n",
    "\n",
    "display(plot_grid)"
   ]
  },
  {
   "cell_type": "code",
   "execution_count": null,
   "metadata": {},
   "outputs": [],
   "source": [
    "sim_array[90].sim_number\n",
    "sim_array[90].time_evolution[1][:complete_timeseries]"
   ]
  },
  {
   "cell_type": "code",
   "execution_count": 134,
   "metadata": {},
   "outputs": [
    {
     "ename": "KeyError",
     "evalue": "KeyError: key 28.0 not found",
     "output_type": "error",
     "traceback": [
      "KeyError: key 28.0 not found\n",
      "\n",
      "Stacktrace:\n",
      " [1] getindex(h::Dict{Any, Any}, key::Float64)\n",
      "   @ Base ./dict.jl:498\n",
      " [2] convert_timeseries_to_tidy_df(timeseries::Dict{Any, Any})\n",
      "   @ FlowComplexity ~/Documents/academic/3-research/projects/2023 spatial-topology/flow-complexity/src/SaveData.jl:221\n",
      " [3] top-level scope\n",
      "   @ ~/Documents/academic/3-research/projects/2023 spatial-topology/flow-complexity/milestones/02_std(m)-vs-kd/D_kd=logspace,t=1000/jl_notebook_cell_df34fa98e69747e1a8f8a730347b8e2f_W5sZmlsZQ==.jl:13"
     ]
    }
   ],
   "source": [
    "using DataFrames, Plots, FileIO\n",
    "\n",
    "sim_no = 9\n",
    "sim = sim_array[sim_no]\n",
    "nchem = 9\n",
    "\n",
    "# Define the array that will hold our population time series\n",
    "max_t = Int(sim.total_time) + 1 # our sim goes to 0...100 so index has to go 1...101\n",
    "nspecies = 10\n",
    "pop_array = zeros(Int, nchem, max_t, nspecies)\n",
    "\n",
    "# Convert the time series to a DataFrame\n",
    "time_series_df = FlowComplexity.convert_timeseries_to_tidy_df(sim.time_evolution)\n",
    "\n",
    "# Populate the population array using efficient DataFrame operations\n",
    "for row in eachrow(time_series_df)\n",
    "    \n",
    "    i = Int(row[:reactor])\n",
    "    j = round(Int, row[:time]) + 1 # indexing starts at 1\n",
    "    k = parse(Int, row[:variable]) # to account for absent data (i.e., zero)\n",
    "    if k > nspecies\n",
    "        continue\n",
    "    end\n",
    "    # println(row)\n",
    "    # println(\"i=$i j=$j k=$k\")\n",
    "    pop_array[i, j, k] = row[:value]\n",
    "end\n",
    "\n",
    "# Create a 3x3 grid plot\n",
    "plot_grid = plot(layout = (3, 3))\n",
    "\n",
    "# Loop over each subplot\n",
    "for i in 1:nchem\n",
    "    # Extract the time series data for the i-th plot\n",
    "    time_series_data = pop_array[i, :, :]\n",
    "    \n",
    "    # Create a subplot for each species in the time series\n",
    "    p = plot()\n",
    "    for j in 1:nspecies\n",
    "        plot!(plot_grid[i], 1:max_t, time_series_data[:, j], label = \"Species $j\", legend = :none)\n",
    "    end\n",
    "end\n",
    "\n",
    "display(plot_grid)"
   ]
  },
  {
   "cell_type": "markdown",
   "metadata": {},
   "source": [
    "# Plot the Std(M) vs $k_d$ \n",
    "\n",
    "## (i.e., the std of monomers vs the outflow)"
   ]
  },
  {
   "cell_type": "code",
   "execution_count": 24,
   "metadata": {},
   "outputs": [],
   "source": [
    "using DataFrames, Plots, FileIO, Statistics\n",
    "\n",
    "first_sim = sim_array[1]\n",
    "nsims = 100\n",
    "nchem = 9\n",
    "nspecies = 10\n",
    "t = 100\n",
    "\n",
    "# Define the array that will hold our data\n",
    "pops = zeros(Float64, nsims, nchem, nspecies)\n",
    "\n",
    "# Loop over all the simulations\n",
    "for i in 1:100\n",
    "    try\n",
    "        sim = sim_array[i]\n",
    "        df = FlowComplexity.convert_timeseries_to_tidy_df(sim.time_evolution)\n",
    "        df = filter(row -> row[:time] == t, df)\n",
    "\n",
    "        for j in 1:nchem\n",
    "            df_reactor = filter(row -> row[:reactor] == j, df)\n",
    "\n",
    "            for k in 1:nspecies\n",
    "                df_reactor_species = filter(row -> row[:variable] == string(k), df_reactor)\n",
    "                if nrow(df_reactor_species) > 0\n",
    "                    pops[i, j, k] = df_reactor_species[1, :value]      \n",
    "                end\n",
    "            end\n",
    "        end\n",
    "    catch\n",
    "        continue\n",
    "    end\n",
    "end"
   ]
  },
  {
   "cell_type": "code",
   "execution_count": null,
   "metadata": {},
   "outputs": [],
   "source": [
    "display(pops[2,:,:])"
   ]
  },
  {
   "cell_type": "code",
   "execution_count": null,
   "metadata": {},
   "outputs": [],
   "source": [
    "stds = zeros(Float64, nsims, nspecies)\n",
    "\n",
    "for i in 1:100\n",
    "    for j in 1:nspecies\n",
    "        stds[i, j] = std(pops[i, :, j])\n",
    "        # stds = dropdims(stds, dims=2)\n",
    "    end\n",
    "end\n",
    "\n",
    "display(stds)"
   ]
  },
  {
   "cell_type": "code",
   "execution_count": null,
   "metadata": {},
   "outputs": [],
   "source": [
    "using LaTeXStrings\n",
    "\n",
    "# p = plot()\n",
    "s = scatter(title=\"SD of monomers across diffusion rates\", xlim=(1e-7, 1e-0), ylim=(0,600))\n",
    "\n",
    "n = 100\n",
    "vals = exp10.(LinRange(-6,-1,n))\n",
    "\n",
    "# kf = 0.001\n",
    "vline!([0.001], label=\"vline\", linestyle=:dash, color=:blue)\n",
    "annotate!(0.0004, 500, text(L\"k_f\", :left, 15, color=:blue))\n",
    "\n",
    "for i in 1:1\n",
    "    # plot!(p, vals, stds[:, i], xscale=:log10, xlabel=\"kd\", ylabel=\"STD(M)\", legend= :none)\n",
    "    scatter!(s, vals, stds[:, i], xscale=:log10, color=:black, xlabel=L\"k_d\", ylabel=\"STD(M)\", legend= :none)\n",
    "end\n",
    "\n",
    "# display(p)\n",
    "display(s)"
   ]
  },
  {
   "cell_type": "code",
   "execution_count": null,
   "metadata": {},
   "outputs": [],
   "source": [
    "display(stds)"
   ]
  },
  {
   "cell_type": "code",
   "execution_count": null,
   "metadata": {},
   "outputs": [],
   "source": [
    "std([1000,10,20,50,1,0,0,0,0])"
   ]
  },
  {
   "cell_type": "code",
   "execution_count": null,
   "metadata": {},
   "outputs": [],
   "source": [
    "mu = zeros(Float64, nsims, nspecies)\n",
    "\n",
    "for i in 1:100\n",
    "    for j in 1:nspecies\n",
    "        mu[i, j] = mean(pops[i, :, j])\n",
    "        # stds = dropdims(stds, dims=2)\n",
    "    end\n",
    "end\n",
    "\n",
    "display(mu)"
   ]
  },
  {
   "cell_type": "code",
   "execution_count": null,
   "metadata": {},
   "outputs": [],
   "source": [
    "p = plot()\n",
    "\n",
    "for i in 1:1\n",
    "    plot!(p, 1:100, mu[:, i], legend= :none)\n",
    "end\n",
    "\n",
    "display(p)"
   ]
  }
 ],
 "metadata": {
  "kernelspec": {
   "display_name": "Julia 1.10.0",
   "language": "julia",
   "name": "julia-1.10"
  },
  "language_info": {
   "file_extension": ".jl",
   "mimetype": "application/julia",
   "name": "julia",
   "version": "1.10.0"
  }
 },
 "nbformat": 4,
 "nbformat_minor": 2
}
