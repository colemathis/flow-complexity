{
 "cells": [
  {
   "cell_type": "code",
   "execution_count": null,
   "metadata": {
    "vscode": {
     "languageId": "r"
    }
   },
   "outputs": [],
   "source": [
    "library(dplyr)\n",
    "library(ggplot2)\n",
    "library(latex2exp)\n",
    "library(gridExtra)\n",
    "library(grid)"
   ]
  },
  {
   "cell_type": "code",
   "execution_count": 3,
   "metadata": {
    "vscode": {
     "languageId": "r"
    }
   },
   "outputs": [],
   "source": [
    "data <- read.csv(\"data/timeseries.csv\")\n",
    "params <- read.csv(\"data/params.csv\")"
   ]
  },
  {
   "cell_type": "code",
   "execution_count": 6,
   "metadata": {
    "vscode": {
     "languageId": "r"
    }
   },
   "outputs": [],
   "source": [
    "selected_sim <- 70\n",
    "\n",
    "# Filter based on the selected simulation and integer range\n",
    "filtered_data <- data %>%\n",
    "    filter(sim_number == selected_sim, integer %in% 1:10)\n",
    "\n",
    "# Get the maximum value of chemostat_id\n",
    "n_chemostat <- params$N_reactors[params$sim_number == selected_sim]\n",
    "nrows <- sqrt(n_chemostat)"
   ]
  },
  {
   "cell_type": "code",
   "execution_count": 24,
   "metadata": {
    "vscode": {
     "languageId": "r"
    }
   },
   "outputs": [],
   "source": [
    "# Create the plot\n",
    "sim_params <- params %>% filter(sim_number == selected_sim)\n",
    "\n",
    "# Plot the time series using facet_wrap with independent y-axis\n",
    "p <- ggplot(filtered_data, aes(x = time, y = frequency, color = factor(integer))) +\n",
    "    geom_line(alpha = 0.7) +\n",
    "    facet_wrap(~ chemostat_id, ncol = nrows, nrow = nrows, scales = \"free_y\", labeller = labeller(chemostat_id = function(x) paste(\"chemostat #\", x))) +\n",
    "    xlab(NULL) +\n",
    "    ylab(NULL) +\n",
    "    theme_minimal() +\n",
    "    theme(legend.position = \"none\")\n",
    "\n",
    "# Add title\n",
    "title <- sprintf(\"simulation %d \\n I=%.2e, k_d=%.2e\", selected_sim, sim_params$inflow_mols, sim_params$outflow_rate)\n",
    "p <- p + ggtitle(title) + theme(plot.title = element_text(hjust = 0.5))\n",
    "\n",
    "# Save the figure\n",
    "ggsave(\"figs/single-timeseries.pdf\", plot = p, width = 8, height = 8)\n"
   ]
  }
 ],
 "metadata": {
  "kernelspec": {
   "display_name": "R",
   "language": "R",
   "name": "ir"
  },
  "language_info": {
   "codemirror_mode": "r",
   "file_extension": ".r",
   "mimetype": "text/x-r-source",
   "name": "R",
   "pygments_lexer": "r",
   "version": "4.3.0"
  }
 },
 "nbformat": 4,
 "nbformat_minor": 2
}
