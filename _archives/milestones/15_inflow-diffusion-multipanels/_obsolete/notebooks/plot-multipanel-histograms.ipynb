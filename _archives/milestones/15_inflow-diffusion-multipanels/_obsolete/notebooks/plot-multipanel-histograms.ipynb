{
 "cells": [
  {
   "cell_type": "code",
   "execution_count": null,
   "metadata": {
    "vscode": {
     "languageId": "r"
    }
   },
   "outputs": [],
   "source": [
    "library(dplyr)\n",
    "library(ggplot2)\n",
    "library(latex2exp)\n",
    "library(gridExtra)"
   ]
  },
  {
   "cell_type": "code",
   "execution_count": 2,
   "metadata": {
    "vscode": {
     "languageId": "r"
    }
   },
   "outputs": [],
   "source": [
    "data <- read.csv(\"data/timeseries.csv\")\n",
    "params <- read.csv(\"data/params.csv\")"
   ]
  },
  {
   "cell_type": "code",
   "execution_count": 3,
   "metadata": {
    "vscode": {
     "languageId": "r"
    }
   },
   "outputs": [],
   "source": [
    "nrows <- 10\n",
    "nsims <- nrows^2\n",
    "\n",
    "selected_sims <- 1:nsims"
   ]
  },
  {
   "cell_type": "code",
   "execution_count": 10,
   "metadata": {
    "vscode": {
     "languageId": "r"
    }
   },
   "outputs": [],
   "source": [
    "# Filter the dataset based on the selected simulations and integer range\n",
    "filtered_data <- data %>%\n",
    "    filter(sim_number %in% selected_sims, integer %in% 1:10)\n",
    "\n",
    "max_time <- max(filtered_data$time)\n",
    "filtered_data <- filtered_data %>%\n",
    "    filter(time == max_time)"
   ]
  },
  {
   "cell_type": "code",
   "execution_count": 11,
   "metadata": {
    "vscode": {
     "languageId": "r"
    }
   },
   "outputs": [],
   "source": [
    "# Aggregate data: sum frequency over `chemostat_id`\n",
    "summarised_data <- filtered_data %>%\n",
    "  group_by(sim_number, time, integer) %>%\n",
    "  summarise(frequency = sum(frequency), .groups = \"drop\")"
   ]
  },
  {
   "cell_type": "code",
   "execution_count": 38,
   "metadata": {
    "vscode": {
     "languageId": "r"
    }
   },
   "outputs": [],
   "source": [
    "# Create the plot\n",
    "p <- ggplot(summarised_data, aes(x = factor(integer), y = frequency)) +\n",
    "    geom_bar(stat = \"identity\", fill = \"skyblue\", width = 0.7) +\n",
    "    scale_y_log10() +\n",
    "    labs(title = \"Simulation Results\", x = NULL, y = NULL) +\n",
    "    theme_minimal() +\n",
    "    theme(legend.position = \"none\",\n",
    "          plot.title = element_text(hjust = 0.5)) +\n",
    "    facet_wrap(~ sim_number, labeller = labeller(sim_number = function(x) {\n",
    "        sim_params <- params %>% filter(sim_number == x)\n",
    "        sprintf(\"I=%.2e \\n kd=%.2e\", sim_params$inflow_mols, sim_params$outflow_rate)\n",
    "    })) +\n",
    "    geom_text(aes(label = sim_number), x = Inf, y = Inf, hjust = 1.5, vjust = 1.5, size = 10, color = \"grey\", alpha = 0.5)\n",
    "\n",
    "# Save the figure\n",
    "ggsave(\"figs/multipanel-histograms.pdf\", plot = p, width = 20, height = 20)\n"
   ]
  }
 ],
 "metadata": {
  "kernelspec": {
   "display_name": "R",
   "language": "R",
   "name": "ir"
  },
  "language_info": {
   "codemirror_mode": "r",
   "file_extension": ".r",
   "mimetype": "text/x-r-source",
   "name": "R",
   "pygments_lexer": "r",
   "version": "4.3.0"
  }
 },
 "nbformat": 4,
 "nbformat_minor": 2
}
