{
 "cells": [
  {
   "cell_type": "code",
   "execution_count": 1,
   "metadata": {
    "vscode": {
     "languageId": "r"
    }
   },
   "outputs": [
    {
     "data": {
      "text/html": [
       "<table class=\"dataframe\">\n",
       "<caption>A data.frame: 6 × 2</caption>\n",
       "<thead>\n",
       "\t<tr><th></th><th scope=col>integer</th><th scope=col>assemblyindex</th></tr>\n",
       "\t<tr><th></th><th scope=col>&lt;int&gt;</th><th scope=col>&lt;int&gt;</th></tr>\n",
       "</thead>\n",
       "<tbody>\n",
       "\t<tr><th scope=row>1</th><td>1</td><td>0</td></tr>\n",
       "\t<tr><th scope=row>2</th><td>2</td><td>1</td></tr>\n",
       "\t<tr><th scope=row>3</th><td>3</td><td>2</td></tr>\n",
       "\t<tr><th scope=row>4</th><td>4</td><td>2</td></tr>\n",
       "\t<tr><th scope=row>5</th><td>5</td><td>3</td></tr>\n",
       "\t<tr><th scope=row>6</th><td>6</td><td>3</td></tr>\n",
       "</tbody>\n",
       "</table>\n"
      ],
      "text/latex": [
       "A data.frame: 6 × 2\n",
       "\\begin{tabular}{r|ll}\n",
       "  & integer & assemblyindex\\\\\n",
       "  & <int> & <int>\\\\\n",
       "\\hline\n",
       "\t1 & 1 & 0\\\\\n",
       "\t2 & 2 & 1\\\\\n",
       "\t3 & 3 & 2\\\\\n",
       "\t4 & 4 & 2\\\\\n",
       "\t5 & 5 & 3\\\\\n",
       "\t6 & 6 & 3\\\\\n",
       "\\end{tabular}\n"
      ],
      "text/markdown": [
       "\n",
       "A data.frame: 6 × 2\n",
       "\n",
       "| <!--/--> | integer &lt;int&gt; | assemblyindex &lt;int&gt; |\n",
       "|---|---|---|\n",
       "| 1 | 1 | 0 |\n",
       "| 2 | 2 | 1 |\n",
       "| 3 | 3 | 2 |\n",
       "| 4 | 4 | 2 |\n",
       "| 5 | 5 | 3 |\n",
       "| 6 | 6 | 3 |\n",
       "\n"
      ],
      "text/plain": [
       "  integer assemblyindex\n",
       "1 1       0            \n",
       "2 2       1            \n",
       "3 3       2            \n",
       "4 4       2            \n",
       "5 5       3            \n",
       "6 6       3            "
      ]
     },
     "metadata": {},
     "output_type": "display_data"
    }
   ],
   "source": [
    "# Load data from the CSV file\n",
    "data <- read.csv(\"Assembly-10000.csv\")\n",
    "\n",
    "# Remove useless data\n",
    "data <- data[, -1]\n",
    "\n",
    "# View the first few rows of the data\n",
    "head(data)"
   ]
  },
  {
   "cell_type": "code",
   "execution_count": 9,
   "metadata": {
    "vscode": {
     "languageId": "r"
    }
   },
   "outputs": [],
   "source": [
    "library(ggplot2)\n",
    "\n",
    "# Compute additional variables for plotting\n",
    "data <- data.frame(integer = data$integer, \n",
    "                   assemblyindex = data$assemblyindex)\n",
    "\n",
    "data$log2_integer <- log2(data$integer)\n",
    "data$upper_bound <- 1.45 * data$log2_integer\n",
    "data$lower_bound <- data$log2_integer\n",
    "\n",
    "# Mid-points for labels\n",
    "mid_x_upper <- 50\n",
    "mid_y_upper <- 10\n",
    "angle_upper <- 40\n",
    "\n",
    "mid_x_lower <- 120\n",
    "mid_y_lower <- 5\n",
    "angle_lower <- 25\n",
    "\n",
    "# Create the ggplot\n",
    "p = ggplot(data, aes(x = integer)) +\n",
    "  geom_point(aes(y = assemblyindex), shape = 4, color = \"black\") +\n",
    "  scale_x_log10(name = \"Integer (Log Scale)\") +\n",
    "  ylab(\"Assembly Index\") +\n",
    "  geom_line(aes(y = upper_bound), color = \"red\", linewidth = 1) +\n",
    "  geom_line(aes(y = lower_bound), color = \"green\", linewidth = 1) +\n",
    "  annotate(\"text\", x = mid_x_upper, y = mid_y_upper, \n",
    "           label = 'paste(A %~~% 1.45 %*% log[2](I))', parse=TRUE, \n",
    "           angle = angle_upper, size = 5, color = \"black\") +\n",
    "  annotate(\"text\", x = mid_x_lower, y = mid_y_lower, \n",
    "           label = 'paste(A %~~% log[2](I))', parse=TRUE, \n",
    "           angle = angle_lower, size = 5, color = \"black\") +\n",
    "  theme_minimal()\n",
    "\n",
    "# print(image)\n",
    "ggsave(filename = \"figs/12_assembly-of-integers.pdf\", plot = p, width = 80, height = 70, units = \"mm\")"
   ]
  }
 ],
 "metadata": {
  "kernelspec": {
   "display_name": "R",
   "language": "R",
   "name": "ir"
  },
  "language_info": {
   "codemirror_mode": "r",
   "file_extension": ".r",
   "mimetype": "text/x-r-source",
   "name": "R",
   "pygments_lexer": "r",
   "version": "4.3.0"
  }
 },
 "nbformat": 4,
 "nbformat_minor": 2
}
